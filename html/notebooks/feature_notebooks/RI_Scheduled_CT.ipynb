{
 "cells": [
  {
   "cell_type": "markdown",
   "id": "57223d3b-951f-43fc-aee7-7f2febbad96c",
   "metadata": {},
   "source": [
    "# Scheduled Continuous Testing"
   ]
  },
  {
   "cell_type": "markdown",
   "id": "63f11b92-86c2-4292-9469-3995dfb90cd1",
   "metadata": {},
   "source": [
    "**Instantiate RIME client and create a new project**\n",
    "\n",
    "Let's begin by creating a new client connection to our Robust Intelligence cluster."
   ]
  },
  {
   "cell_type": "code",
   "execution_count": null,
   "id": "020a469c-a549-4857-a303-efc6a79119ae",
   "metadata": {},
   "outputs": [],
   "source": [
    "from rime_sdk import Client\n",
    "\n",
    "API_TOKEN = '' # PASTE API_KEY \n",
    "CLUSTER_URL = '' # PASTE DEDICATED DOMAIN OF RIME SERVICE (eg: rime.stable.rbst.io)\n",
    "AGENT_ID = '' # PASTE AGENT_ID IF USING AN AGENT THAT IS NOT THE DEFAULT\n",
    "\n",
    "client = Client(CLUSTER_URL, API_TOKEN)"
   ]
  },
  {
   "cell_type": "code",
   "execution_count": null,
   "id": "3af0ffae-aed2-4ed2-947f-1b8f9f985fa4",
   "metadata": {},
   "outputs": [],
   "source": [
    "description = (\n",
    "    \"Create a Continuous Test and set up scheduling.\"\n",
    "    \" Demonstration uses a tabular binary classification dataset\"\n",
    "    \" and model that simulates credit card fraud detection.\"\n",
    ")\n",
    "project = client.create_project(\n",
    "    \"Scheduled Continuous Testing Demo\", \n",
    "    description,\n",
    "    \"MODEL_TASK_BINARY_CLASSIFICATION\"\n",
    ")"
   ]
  },
  {
   "cell_type": "code",
   "execution_count": null,
   "id": "52be1935-95e2-4695-a78c-b04f70ea06ee",
   "metadata": {},
   "outputs": [],
   "source": [
    "project_id = project.project_id\n",
    "\n",
    "# You can always retrieve a project when re-running the notebook by using its id\n",
    "project = client.get_project(project_id)"
   ]
  },
  {
   "cell_type": "markdown",
   "id": "28538d07-bb51-46cf-8fb7-46066f4c76ef",
   "metadata": {},
   "source": [
    "**Create a custom loader function to retrieve data from S3**\n",
    "\n",
    "There are many ways for Continuous Testing (CT) to load in your data. In this example, we'll write a Python function to generate data and store the function on S3.\n",
    "\n",
    "The Python function will take in the following parameters:\n",
    "\n",
    "- `start_time`: Required for scheduled CT. This is needed to grab the proper data based on time.\n",
    "- `end_time`: Required for scheduled CT. This is needed to grab the proper data based on time.\n",
    "- `ref_data`: Custom parameter for this function (you can add your own custom parameters and let RI know about them once you register your dataset). Returns reference or evaluation dataset for this example notebook based on the value of the boolean.\n",
    "- `preds_only`: Custom parameter for this function (you can add your own custom parameters and let Robust Intelligence know about them once you register your dataset). Returns the actual data or just the predictions for this example notebook based on the value of the boolean.\n",
    "\n",
    "We'll put this function into a `.py` file and upload it to an S3 bucket. Then, later in the notebook, we will set up our project to download and call this function to generate data to use with CT runs."
   ]
  },
  {
   "cell_type": "code",
   "execution_count": null,
   "id": "72c93b1e-6dc0-4f95-bce3-5aabff4bea14",
   "metadata": {},
   "outputs": [],
   "source": [
    "\"\"\"Custom loader for fraud datasets from S3.\"\"\"\n",
    "from datetime import datetime\n",
    "\n",
    "import pandas as pd\n",
    "import subprocess\n",
    "import sys\n",
    "\n",
    "def custom_data_loader_func(\n",
    "    start_time: datetime, # Note: Required for scheduled CT\n",
    "    end_time: datetime, # Note: Required for scheduled CT\n",
    "    ref_data: bool,\n",
    "    preds_only: bool,\n",
    ") -> pd.DataFrame:\n",
    "    # Load the data\n",
    "    subprocess.check_call([sys.executable, \"-m\", \"pip\", \"install\", \"https://github.com/RobustIntelligence/ri-public-examples/archive/master.zip\"])\n",
    "\n",
    "    from ri_public_examples.download_files import download_files\n",
    "    download_files('tabular-2.0/fraud', 'fraud')\n",
    "\n",
    "    ct_data = (pd.read_csv(\"fraud/data/fraud_incremental_preds.csv\")\n",
    "               if preds_only\n",
    "               else pd.read_csv(\"fraud/data/fraud_incremental.csv\"))\n",
    "\n",
    "    if ref_data:\n",
    "        return ct_data[:len(ct_data)//2]\n",
    "    else:\n",
    "        return ct_data[len(ct_data)//2:]"
   ]
  },
  {
   "cell_type": "markdown",
   "id": "115bb4a0-ef92-437e-8332-f6fbace1dddd",
   "metadata": {},
   "source": [
    "**Create an integration to S3**\n",
    "\n",
    "We need to set up an S3 integration with credential information to be able to properly download the data loading Python file from our S3 bucket. You can find additional information on how to create integrations [here](https://docs.rime.dev/en/latest/administration/workspace_configuration/integrations.html)."
   ]
  },
  {
   "cell_type": "code",
   "execution_count": null,
   "id": "4bcf5c45-66a5-40ba-8897-d8f4f72e81c5",
   "metadata": {},
   "outputs": [],
   "source": [
    "WORKSPACE_ID = '' # PASTE WORKSPACE_ID\n",
    "AWS_ACCESS_KEY_ID = '' # PASTE AWS ACCESS KEY ID WITH ACCESS TO YOUR S3 BUCKET\n",
    "AWS_SECRET_ACCESS_KEY = '' # PASTE AWS SECRET ACCESS KEY WITH ACCESS TO YOUR S3 BUCKET\n",
    "\n",
    "S3_INTEGRATION_ID = client.create_integration(\n",
    "    workspace_id=WORKSPACE_ID,\n",
    "    name=\"s3 integration\",\n",
    "    integration_type=\"INTEGRATION_TYPE_AWS_ACCESS_KEY\",\n",
    "    integration_schema=[\n",
    "        {\n",
    "            \"name\": \"AWS_ACCESS_KEY_ID\",\n",
    "            \"sensitivity\": \"VARIABLE_SENSITIVITY_PUBLIC\",\n",
    "            \"value\": AWS_ACCESS_KEY_ID,\n",
    "        },\n",
    "        {\n",
    "            \"name\": \"AWS_SECRET_ACCESS_KEY\",\n",
    "            \"sensitivity\": \"VARIABLE_SENSITIVITY_WORKSPACE_SECRET\",\n",
    "            \"value\": AWS_SECRET_ACCESS_KEY,\n",
    "        },\n",
    "    ],\n",
    ")"
   ]
  },
  {
   "cell_type": "markdown",
   "id": "e71fd9cb-6b33-45a5-b7fd-52a76b3b5a50",
   "metadata": {},
   "source": [
    "**Register datasets with the project**\n",
    "\n",
    "To start a CT run, we need to register our model (optional), datasets and predictions (required if model is not specified) with the project. For dataset registration, we need to specify:\n",
    "\n",
    "- the S3 path to the Python file\n",
    "- the name of the data loading function in the Python file\n",
    "- the list of custom parameters required by the function (e.g., `ref_data`, `preds_only`)"
   ]
  },
  {
   "cell_type": "code",
   "execution_count": null,
   "id": "69d671a0-f85f-4c76-8af0-b504d42c2eea",
   "metadata": {},
   "outputs": [],
   "source": [
    "dt = str(datetime.now())\n",
    "\n",
    "# Note: models and datasets need to have unique names.\n",
    "model_id = project.register_model(f\"fraud_model_{dt}\", None, agent_id=AGENT_ID)\n",
    "\n",
    "ref_data_id = project.register_dataset(\n",
    "    name=f\"fraud_reference_dataset{dt}\",\n",
    "    data_config={\n",
    "        \"connection_info\": {\"data_loading\": {\n",
    "            \"path\": \"s3://pranay-scheduled-ct-test/s3_fraud_custom_loader.py\",\n",
    "            \"load_func_name\": \"custom_data_loader_func\",\n",
    "            \"loader_kwargs_json\": \"{\\\"ref_data\\\": true, \\\"preds_only\\\": false}\",\n",
    "        }},\n",
    "        \"data_params\": {\n",
    "            \"label_col\": \"label\",\n",
    "            \"timestamp_col\": \"timestamp\",\n",
    "        },\n",
    "    },\n",
    "    integration_id=S3_INTEGRATION_ID,\n",
    "    agent_id=AGENT_ID,\n",
    ")\n",
    "\n",
    "project.register_predictions(\n",
    "    dataset_id=ref_data_id,\n",
    "    model_id=model_id,\n",
    "    pred_config={\n",
    "        \"connection_info\": {\"data_loading\": {\n",
    "            \"path\": \"s3://pranay-scheduled-ct-test/s3_fraud_custom_loader.py\",\n",
    "            \"load_func_name\": \"custom_data_loader_func\",\n",
    "            \"loader_kwargs_json\": \"{\\\"ref_data\\\": true, \\\"preds_only\\\": true}\",\n",
    "        }},\n",
    "        \"pred_params\": {\n",
    "            \"pred_col\": \"preds\",\n",
    "        },\n",
    "    },\n",
    "    integration_id=S3_INTEGRATION_ID,\n",
    "    agent_id=AGENT_ID,\n",
    ")"
   ]
  },
  {
   "cell_type": "code",
   "execution_count": null,
   "id": "41aaab2c-5c39-4083-bfc8-28881a334754",
   "metadata": {},
   "outputs": [],
   "source": [
    "eval_data_id = project.register_dataset(\n",
    "    name=f\"fraud_evaluation_dataset{dt}\",\n",
    "    data_config={\n",
    "        \"connection_info\": {\"data_loading\": {\n",
    "            \"path\": \"s3://pranay-scheduled-ct-test/s3_fraud_custom_loader.py\",\n",
    "            \"load_func_name\": \"custom_data_loader_func\",\n",
    "            \"loader_kwargs_json\": \"{\\\"ref_data\\\": false, \\\"preds_only\\\": false}\",\n",
    "        }},\n",
    "        \"data_params\": {\n",
    "            \"label_col\": \"label\",\n",
    "            \"timestamp_col\": \"timestamp\",\n",
    "        },\n",
    "    },\n",
    "    integration_id=S3_INTEGRATION_ID,\n",
    "    agent_id=AGENT_ID,\n",
    ")\n",
    "\n",
    "project.register_predictions(\n",
    "    dataset_id=eval_data_id,\n",
    "    model_id=model_id,\n",
    "    pred_config={\n",
    "        \"connection_info\": {\"data_loading\": {\n",
    "            \"path\": \"s3://pranay-scheduled-ct-test/s3_fraud_custom_loader.py\",\n",
    "            \"load_func_name\": \"custom_data_loader_func\",\n",
    "            \"loader_kwargs_json\": \"{\\\"ref_data\\\": false, \\\"preds_only\\\": true}\",\n",
    "        }},\n",
    "        \"pred_params\": {\n",
    "            \"pred_col\": \"preds\",\n",
    "        },\n",
    "    },\n",
    "    integration_id=S3_INTEGRATION_ID,\n",
    "    agent_id=AGENT_ID,\n",
    ")"
   ]
  },
  {
   "cell_type": "markdown",
   "id": "a04f977e-2a49-4061-b7c8-0e5771f44b94",
   "metadata": {},
   "source": [
    "**Test everything out with a manual CT run**\n",
    "\n",
    "We don't want to wait until a scheduled CT run in the future to surface small mistakes (e.g., a typo in the S3 path). We can create a new CT instance and start a manual run to verify that our configuration works as intended before activating scheduling.\n",
    "\n",
    "NOTE: Data needs to exist and be returned for every time bin. If there is no data for a bin, an error will be returned."
   ]
  },
  {
   "cell_type": "code",
   "execution_count": null,
   "id": "de8e92b0-925e-4d21-9ab1-b5f9a3c23015",
   "metadata": {},
   "outputs": [],
   "source": [
    "from datetime import timedelta\n",
    "\n",
    "ct = project.create_ct(model_id, ref_data_id, bin_size=timedelta(days=1))\n",
    "\n",
    "# If you are re-running this notebook and already have created CT for the project, you can retrieve and update the CT object.\n",
    "# ct = project.get_ct()\n",
    "# ct.update_ct(ref_data_id=ref_data_id)"
   ]
  },
  {
   "cell_type": "code",
   "execution_count": null,
   "id": "1c675a27-4fe7-4f50-82ef-ee9337c7de70",
   "metadata": {},
   "outputs": [],
   "source": [
    "ct_job = ct.start_continuous_test(eval_data_id, override_existing_bins=True, agent_id=AGENT_ID)\n",
    "ct_job.get_status(verbose=True, wait_until_finish=True)"
   ]
  },
  {
   "cell_type": "markdown",
   "id": "2e05f876-2404-463f-a10f-441912ef14a8",
   "metadata": {},
   "source": [
    "**Activate Scheduled Continuous Testing**\n",
    "\n",
    "After verifying that CT can successfully load in our data, run tests and push the results to the Robust Intelligence UI, we are ready to activate scheduled CT."
   ]
  },
  {
   "cell_type": "code",
   "execution_count": null,
   "id": "3181267d-743c-48d9-bf99-733a6fe28277",
   "metadata": {},
   "outputs": [],
   "source": [
    "ct.activate_ct_scheduling(\n",
    "    data_info={\n",
    "        \"connection_info\": {\"data_loading\": {\n",
    "            \"path\": \"s3://pranay-scheduled-ct-test/s3_fraud_custom_loader_scheduled_ct.py\",\n",
    "            \"load_func_name\": \"custom_data_loader_func\",\n",
    "            \"loader_kwargs_json\": \"{\\\"ref_data\\\": false, \\\"preds_only\\\": false}\",\n",
    "        }},\n",
    "        \"data_params\": {\n",
    "            \"label_col\": \"label\",\n",
    "            \"timestamp_col\": \"timestamp\",\n",
    "        },\n",
    "    },\n",
    "    data_integration_id=S3_INTEGRATION_ID,\n",
    "    pred_integration_id=S3_INTEGRATION_ID,\n",
    "    pred_info={\n",
    "        \"connection_info\": {\"data_loading\": {\n",
    "            \"path\": \"s3://pranay-scheduled-ct-test/s3_fraud_custom_loader_scheduled_ct.py\",\n",
    "            \"load_func_name\": \"custom_data_loader_func\",\n",
    "            \"loader_kwargs_json\": \"{\\\"ref_data\\\": false, \\\"preds_only\\\": true}\",\n",
    "        }},\n",
    "        \"pred_params\": {\n",
    "            \"pred_col\": \"preds\",\n",
    "        },\n",
    "    },\n",
    ")"
   ]
  },
  {
   "cell_type": "markdown",
   "id": "970ff72f-8556-462c-8492-5c3aa211ff24",
   "metadata": {},
   "source": [
    "**Some additional methods to work with Scheduled CT**\n",
    "\n",
    "```python\n",
    "# Find the schedule for CT\n",
    "ct.get_scheduled_ct_info()\n",
    "\n",
    "# Deactivate the schedule for CT\n",
    "ct.deactivate_ct_scheduling()\n",
    "\n",
    "# Update the reference dataset for a scheduled Continuous Test\n",
    "ct.update_ct(ref_data_id=new_ref_data_id)\n",
    "```"
   ]
  }
 ],
 "metadata": {
  "kernelspec": {
   "display_name": "Python 3 (ipykernel)",
   "language": "python",
   "name": "python3"
  },
  "language_info": {
   "codemirror_mode": {
    "name": "ipython",
    "version": 3
   },
   "file_extension": ".py",
   "mimetype": "text/x-python",
   "name": "python",
   "nbconvert_exporter": "python",
   "pygments_lexer": "ipython3",
   "version": "3.9.18"
  }
 },
 "nbformat": 4,
 "nbformat_minor": 5
}
