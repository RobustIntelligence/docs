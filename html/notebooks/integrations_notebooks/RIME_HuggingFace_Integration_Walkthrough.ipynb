{
 "cells": [
  {
   "cell_type": "markdown",
   "id": "dd9c562c",
   "metadata": {},
   "source": [
    "# Robust Intelligence 🤝 🤗 Integration Walkthrough\n",
    "\n",
    "RIME natively supports stress testing and monitoring of Hugging Face models through a native integration with their API's. Below is an example run stress testing a sentiment classification transformer model on the [Amazon Polarity](https://huggingface.co/datasets/amazon_polarity) dataset. For more information on how to connect with a [Hugging Face Model](https://robust-intelligence-inc-rime.readthedocs-hosted.com/en/latest/for_data_scientists/how_to_guides/integrations/huggingface.html?highlight=huggingface#huggingface-classification-model) or \n",
    "[Hugging Face Dataset](https://robust-intelligence-inc-rime.readthedocs-hosted.com/en/latest/for_data_scientists/reference/configuration/nlp/data_source.html?highlight=huggingface#huggingface-dataset), check out the linked documentation.\n",
    "\n",
    "First, specify the URL and api token to connect with your cluster."
   ]
  },
  {
   "cell_type": "markdown",
   "id": "2d6640eb",
   "metadata": {},
   "source": [
    "> Latest Colab version of this notebook available [here](https://colab.research.google.com/github/RobustIntelligence/docs/blob/main/notebooks/demo_notebooks/RIME_HuggingFace_Integration_Walkthrough.ipynb)"
   ]
  },
  {
   "cell_type": "code",
   "execution_count": 1,
   "id": "5da04f17",
   "metadata": {},
   "outputs": [],
   "source": [
    "# set these before beginning!\n",
    "CLUSTER_URL = '' # e.g., rime.<name>.rime.dev\n",
    "API_TOKEN = '' "
   ]
  },
  {
   "cell_type": "markdown",
   "id": "62e6e2d1",
   "metadata": {},
   "source": [
    "**Create a Managed Image**\n",
    "\n",
    "Since the Hugging Face integration requires a couple additional dependencies, we will first create a Docker image to be managed by RIME."
   ]
  },
  {
   "cell_type": "code",
   "execution_count": null,
   "id": "b8daf6fa",
   "metadata": {},
   "outputs": [],
   "source": [
    "%pip install rime-sdk &> /dev/null\n",
    "from rime_sdk import Client \n",
    "\n",
    "image_name = \"huggingface\"\n",
    "\n",
    "# connect to your cluster\n",
    "rime_client = Client(CLUSTER_URL, api_key=API_TOKEN)\n",
    "\n",
    "# Specify pip requirements for the run. Some models require additional dependencies.\n",
    "requirements = [\n",
    "     rime_client.pip_requirement(\"transformers\"),\n",
    "     rime_client.pip_requirement(\"datasets\"),\n",
    "     # Uncomment if you need sentencepiece\n",
    "     # rime_client.pip_requirement(\"sentencepiece\"),\n",
    "   ]\n",
    "\n",
    "if not rime_client.has_managed_image(image_name, check_status=True):\n",
    "    # e.g., if the image build job failed\n",
    "    if rime_client.has_managed_image(image_name):\n",
    "        rime_client.delete_managed_image(image_name)\n",
    "    # Start a new image building job\n",
    "    builder_job = rime_client.create_managed_image(image_name, requirements)\n",
    "\n",
    "    # Wait until the job has finished and print out status information.\n",
    "    # Once this prints out the `READY` status, your image is available for use in stress tests.\n",
    "    builder_job.get_status(verbose=True, wait_until_finish=True)"
   ]
  },
  {
   "cell_type": "markdown",
   "id": "1696dc89",
   "metadata": {},
   "source": [
    "**Run Stress Test**\n",
    "\n",
    "Now it's time to kick off a stress testing run. We will synchronously monitor the job using the `get_status()` command."
   ]
  },
  {
   "cell_type": "code",
   "execution_count": null,
   "id": "72059347",
   "metadata": {},
   "outputs": [],
   "source": [
    "config = {\n",
    "    \"run_name\": \"Sentiment Classification\",\n",
    "    \"data_info\": {\n",
    "        \"type\": \"huggingface\",\n",
    "        \"dataset_uri\": \"amazon_polarity\",\n",
    "        \"text_key\": \"content\"\n",
    "    },\n",
    "    \"prediction_info\": {\"n_samples\": 5000}, # limit to 5k predictions to speed up run.\n",
    "    \"model_info\": {\n",
    "        \"type\": \"huggingface_classification\",\n",
    "        \"model_uri\": \"BaxterAI/SentimentClassifier\"\n",
    "    },\n",
    "    \"model_task\": \"Text Classification\"\n",
    "}\n",
    "\n",
    "\n",
    "job = rime_client.start_stress_test(test_run_config=config, data_type='nlp', rime_managed_image=image_name)\n",
    "job.get_status(wait_until_finish=True, verbose=True)"
   ]
  },
  {
   "cell_type": "markdown",
   "id": "f67e5818",
   "metadata": {},
   "source": [
    "**Review Results**\n",
    "\n",
    "Now that the test has completed, check out the test run results using the link below."
   ]
  },
  {
   "cell_type": "code",
   "execution_count": null,
   "id": "bf237684",
   "metadata": {},
   "outputs": [],
   "source": [
    "test_run = job.get_test_run()\n",
    "test_run"
   ]
  }
 ],
 "metadata": {
  "kernelspec": {
   "display_name": "Python 3 (ipykernel)",
   "language": "python",
   "name": "python3"
  },
  "language_info": {
   "codemirror_mode": {
    "name": "ipython",
    "version": 3
   },
   "file_extension": ".py",
   "mimetype": "text/x-python",
   "name": "python",
   "nbconvert_exporter": "python",
   "pygments_lexer": "ipython3",
   "version": "3.8.15"
  },
  "vscode": {
   "interpreter": {
    "hash": "ca72df3b9ba417119a386bc7f6836e81c78349bc450cdbaf3afafb90bdf8ed1f"
   }
  }
 },
 "nbformat": 4,
 "nbformat_minor": 5
}
