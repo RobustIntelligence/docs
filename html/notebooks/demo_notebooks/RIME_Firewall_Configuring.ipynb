{
 "cells": [
  {
   "cell_type": "markdown",
   "metadata": {
    "id": "K05kWwxAT9uN"
   },
   "source": [
    "# Updating your Continuous Test\n",
    "   \n",
    "\n",
    "In this Notebook walkthrough, we will show how to update an **AI Firewall** after it has been deployed to production. The Firewall can be updated live to account for many service changes, such as modifying the reference dataset and upgrading the model, or configuring individual tests.\n"
   ]
  },
  {
   "cell_type": "markdown",
   "metadata": {},
   "source": [
    "**Install dependencies**"
   ]
  },
  {
   "cell_type": "code",
   "execution_count": null,
   "metadata": {},
   "outputs": [],
   "source": [
    "!pip install rime-sdk &> /dev/null\n",
    "!pip install https://github.com/RobustIntelligence/ri-public-examples/archive/master.zip"
   ]
  },
  {
   "cell_type": "code",
   "execution_count": null,
   "metadata": {},
   "outputs": [],
   "source": [
    "from pathlib import Path\n",
    "from tempfile import TemporaryDirectory\n",
    "from typing import List\n",
    "\n",
    "import pandas as pd\n",
    "from ri_public_examples.download_files import download_files\n",
    "from rime_sdk import Client"
   ]
  },
  {
   "cell_type": "markdown",
   "metadata": {},
   "source": [
    "**Download and prep data**"
   ]
  },
  {
   "cell_type": "code",
   "execution_count": null,
   "metadata": {},
   "outputs": [],
   "source": [
    "download_files('tabular-2.0/fraud', 'fraud')\n",
    "ct_data = pd.read_csv(\"fraud/data/fraud_incremental.csv\")\n",
    "ct_data[:len(ct_data)//2].to_csv(\"fraud/data/fraud_incremental_0.csv\", index=False)\n",
    "ct_data[len(ct_data)//2:].to_csv(\"fraud/data/fraud_incremental_1.csv\", index=False)\n",
    "\n",
    "ct_preds = pd.read_csv(\"fraud/data/fraud_incremental_preds.csv\")\n",
    "ct_preds[:len(ct_preds)//2].to_csv(\"fraud/data/fraud_incremental_0_preds.csv\", index=False)\n",
    "ct_preds[len(ct_preds)//2:].to_csv(\"fraud/data/fraud_incremental_1_preds.csv\", index=False)"
   ]
  },
  {
   "cell_type": "markdown",
   "metadata": {},
   "source": [
    "**Instantiate RIME client and create project**"
   ]
  },
  {
   "cell_type": "code",
   "execution_count": null,
   "metadata": {},
   "outputs": [],
   "source": [
    "API_TOKEN = '' # PASTE API_KEY \n",
    "CLUSTER_URL = '' # PASTE DEDICATED DOMAIN OF RIME SERVICE (eg: rime.stable.rbst.io)"
   ]
  },
  {
   "cell_type": "code",
   "execution_count": null,
   "metadata": {},
   "outputs": [],
   "source": [
    "client = Client(CLUSTER_URL, API_TOKEN)"
   ]
  },
  {
   "cell_type": "code",
   "execution_count": null,
   "metadata": {},
   "outputs": [],
   "source": [
    "description = (\n",
    "    \"Create an AI Firewall and update the configuration after it is deployed to production.\"\n",
    "    \" Demonstration uses a tabular binary classification dataset\"\n",
    "    \" and model that simulates credit card fraud detection.\"\n",
    ")\n",
    "project = client.create_project(\n",
    "    \"AI Firewall Configuration Demo\", \n",
    "    description,\n",
    "    \"MODEL_TASK_BINARY_CLASSIFICATION\"\n",
    ")"
   ]
  },
  {
   "cell_type": "markdown",
   "metadata": {},
   "source": [
    "**Upload data to S3 and register dataset and prediction set**"
   ]
  },
  {
   "cell_type": "code",
   "execution_count": null,
   "metadata": {},
   "outputs": [],
   "source": [
    "from datetime import datetime\n",
    "\n",
    "dt = str(datetime.now())\n",
    "# Note: models and datasets need to have unique names.\n",
    "model_id = project.register_model(f\"fraud_model_{dt}\", None)"
   ]
  },
  {
   "cell_type": "code",
   "execution_count": null,
   "metadata": {},
   "outputs": [],
   "source": [
    "upload_path = \"ri_public_examples_fraud\"\n",
    "\n",
    "def upload_and_register_data(dataset_name, **kwargs):\n",
    "    dt = str(datetime.now())\n",
    "    s3_path = client.upload_file(\n",
    "        Path(f'fraud/data/fraud_{dataset_name}.csv'), upload_path=upload_path\n",
    "    )\n",
    "    preds_s3_path = client.upload_file(\n",
    "        Path(f\"fraud/data/fraud_{dataset_name}_preds.csv\"), upload_path=upload_path\n",
    "    )\n",
    "    dataset_id = project.register_dataset_from_file(\n",
    "        f\"{dataset_name}_dataset_{dt}\", s3_path, data_params={\"label_col\": \"label\", **kwargs}\n",
    "    )\n",
    "    project.register_predictions_from_file(\n",
    "        dataset_id, model_id, preds_s3_path\n",
    "    )\n",
    "    return dataset_id\n",
    "\n",
    "ref_data_id = upload_and_register_data(\"ref\")"
   ]
  },
  {
   "cell_type": "markdown",
   "metadata": {
    "id": "APMTB6F7byjr"
   },
   "source": [
    "**Create a Firewall**\n"
   ]
  },
  {
   "cell_type": "code",
   "execution_count": null,
   "metadata": {},
   "outputs": [],
   "source": [
    "from datetime import timedelta\n",
    "\n",
    "firewall = project.create_firewall(model_id, ref_data_id, timedelta(days=1))\n",
    "firewall"
   ]
  },
  {
   "cell_type": "markdown",
   "metadata": {
    "id": "g7McYwfDUztC"
   },
   "source": [
    "**Run Continuous Testing on a batch of production data**"
   ]
  },
  {
   "cell_type": "code",
   "execution_count": null,
   "metadata": {
    "id": "EHxteK1gUklo"
   },
   "outputs": [],
   "source": [
    "ct_data_0_id = upload_and_register_data(\"incremental_0\", timestamp_col=\"timestamp\")\n",
    "\n",
    "ct_job = firewall.start_continuous_test(ct_data_0_id)\n",
    "ct_job.get_status(verbose=True, wait_until_finish=True)"
   ]
  },
  {
   "cell_type": "markdown",
   "metadata": {},
   "source": [
    "**Update the Reference Dataset**\n",
    "\n",
    "Suppose a week has passed, and we have updated your model by retraining on new data. We want to update our deployed Firewall to reflect the new reference dataset."
   ]
  },
  {
   "cell_type": "code",
   "execution_count": null,
   "metadata": {},
   "outputs": [],
   "source": [
    "new_ref_data_id = upload_and_register_data(\"eval\")\n",
    "\n",
    "# Update firewall's configuration based on the new stress test run\n",
    "firewall.update_firewall(ref_data_id=new_ref_data_id)\n",
    "# The new stress test run will now be highlighted to reflect the firewall update\n",
    "project"
   ]
  },
  {
   "cell_type": "markdown",
   "metadata": {},
   "source": [
    "**Run Continuous Testing on the latest batch of production data**\n",
    "This time using the updated reference set as the baseline against which the production data is compared."
   ]
  },
  {
   "cell_type": "code",
   "execution_count": null,
   "metadata": {},
   "outputs": [],
   "source": [
    "ct_data_1_id = upload_and_register_data(\"incremental_1\", timestamp_col=\"timestamp\")\n",
    "ct_job = firewall.start_continuous_test(ct_data_1_id, override_existing_bins=True)\n",
    "ct_job.get_status(verbose=True, wait_until_finish=True)"
   ]
  }
 ],
 "metadata": {
  "colab": {
   "collapsed_sections": [],
   "name": "RIME_Fraud_OnboardingWalkthrough.ipynb",
   "provenance": []
  },
  "kernelspec": {
   "display_name": "Python 3 (ipykernel)",
   "language": "python",
   "name": "python3"
  },
  "language_info": {
   "codemirror_mode": {
    "name": "ipython",
    "version": 3
   },
   "file_extension": ".py",
   "mimetype": "text/x-python",
   "name": "python",
   "nbconvert_exporter": "python",
   "pygments_lexer": "ipython3",
   "version": "3.8.15"
  }
 },
 "nbformat": 4,
 "nbformat_minor": 4
}
