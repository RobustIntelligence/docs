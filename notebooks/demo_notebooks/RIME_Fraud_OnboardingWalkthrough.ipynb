{
 "cells": [
  {
   "cell_type": "markdown",
   "metadata": {
    "id": "K05kWwxAT9uN",
    "pycharm": {
     "name": "#%% md\n"
    }
   },
   "source": [
    "# **The Fraud Classification Walkthrough has moved**\n",
    "\n",
    "This notebook has moved to [RI Fraud Classification Walkthrough in Google Colab](https://colab.research.google.com/github/RobustIntelligence/docs/blob/main/notebooks/demo_notebooks/RI_Fraud_Classification_Walkthrough.ipynb). \n"
   ]
  },
],
 "metadata": {
  "colab": {
   "collapsed_sections": [],
   "name": "RIME_Fraud_OnboardingWalkthrough.ipynb",
   "provenance": []
  },
  "kernelspec": {
   "display_name": "Python 3 (ipykernel)",
   "language": "python",
   "name": "python3"
  },
  "language_info": {
   "codemirror_mode": {
    "name": "ipython",
    "version": 3
   },
   "file_extension": ".py",
   "mimetype": "text/x-python",
   "name": "python",
   "nbconvert_exporter": "python",
   "pygments_lexer": "ipython3",
   "version": "3.9.13"
  }
 },
 "nbformat": 4,
 "nbformat_minor": 4
}
