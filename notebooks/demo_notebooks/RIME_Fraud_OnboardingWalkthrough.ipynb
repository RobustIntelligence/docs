{
 "cells": [
  {
   "cell_type": "markdown",
   "metadata": {
    "id": "BIynAFvsVwk1"
   },
   "source": [
    "![Robust Intelligence Logo](https://www.dropbox.com/s/jzx24dtt6d1wdwz/RI%20Logo%20Stacked%20-%20White%20Transparent.png?dl=1)"
   ]
  },
  {
   "cell_type": "markdown",
   "metadata": {
    "id": "K05kWwxAT9uN"
   },
   "source": [
    "# **Getting Started with the RIME Platform**\n",
    "\n",
    "You are a data scientist at a Payment Processing Company. The data science team has been tasked with implementing a Fraud Detection model and monitoring how that model performs over time. The performance of this fraud detection model directly impacts the costs of the company. In order to ensure the data science team develops the best model and the performance of this model doesn't degrade over time, the VP of Data Science purchases the RIME platform. \n",
    "    \n",
    "\n",
    "In this Notebook Walkthrough, we will walkthrough 2 of RIME's core products - **AI Stress Testing** and **AI Continuous Testing**.\n",
    "\n",
    "1. **AI Stress Testing** is used in the model development stage. Using AI Stress Testing you can test the developed model. RIME goes beyond simply optimizing for basic model performance like accuracy and automatically discovers the model's weaknesses.\n",
    "2. **AI Continuous Testing** is used after the model is deployed in production. Using AI Continuous Testing, you can automate the monitoring, discovery and remediation of issues that occur post-deployment."
   ]
  },
  {
   "cell_type": "markdown",
   "metadata": {
    "id": "APMTB6F7byjr"
   },
   "source": [
    "## **Install Dependencies, Import Libraries and Download Data**\n",
    "Run the cell below to install libraries to receive data, install our SDK, and load analysis libraries."
   ]
  },
  {
   "cell_type": "code",
   "execution_count": null,
   "metadata": {
    "id": "-Qr8pHVOcNz7",
    "tags": []
   },
   "outputs": [],
   "source": [
    "!pip install rime-sdk~=2.0.0b &> /dev/null\n",
    "\n",
    "import pandas as pd\n",
    "from pathlib import Path\n",
    "from rime_sdk import Client"
   ]
  },
  {
   "cell_type": "code",
   "execution_count": null,
   "metadata": {
    "id": "yxskvoMfcUl_"
   },
   "outputs": [],
   "source": [
    "!pip install https://github.com/RobustIntelligence/ri-public-examples/archive/master.zip\n",
    "    \n",
    "from ri_public_examples.download_files import download_files\n",
    "\n",
    "download_files('tabular/fraud', 'fraud')\n",
    "\n",
    "def sep_preds(path):\n",
    "    df = pd.read_csv(path)\n",
    "    df.drop(\"preds\", axis=1).to_csv(path, index=False)\n",
    "    preds_path = path.replace(\".csv\", \"_preds.csv\")\n",
    "    df[\"preds\"].to_csv(preds_path, index=False)\n",
    "    \n",
    "for dataset in [\"ref\", \"eval\", \"incremental\"]:\n",
    "    path = f\"fraud/data/fraud_{dataset}.csv\"\n",
    "    sep_preds(path)"
   ]
  },
  {
   "cell_type": "markdown",
   "metadata": {
    "id": "90zo7hdkmKyW"
   },
   "source": [
    "## **Establish the RIME Client**\n",
    "\n",
    "To get started, provide the API credentials and the base domain/address of the RIME service. You can generate and copy an API token from the API Access Tokens Page under Workspace settings. For the domian/address of the RIME service, contact your admin. "
   ]
  },
  {
   "cell_type": "markdown",
   "metadata": {
    "id": "90zo7hdkmKyW"
   },
   "source": [
    "![img_1](https://drive.google.com/uc?id=1vMDhZii8yq22iuqSM8-Vqt3sZ2F3tPyz)"
   ]
  },
  {
   "cell_type": "code",
   "execution_count": null,
   "metadata": {
    "id": "Ns6m8I-qsCzF"
   },
   "outputs": [],
   "source": [
    "API_TOKEN = '' # PASTE API_KEY \n",
    "CLUSTER_URL = '' # PASTE DEDICATED DOMAIN OF RIME SERVICE (eg: rime.stable.rbst.io)"
   ]
  },
  {
   "cell_type": "code",
   "execution_count": null,
   "metadata": {},
   "outputs": [],
   "source": [
    "client = Client(CLUSTER_URL, API_TOKEN)"
   ]
  },
  {
   "cell_type": "markdown",
   "metadata": {
    "id": "pIjQx9KUvWCF"
   },
   "source": [
    "## **Create a New Project**\n",
    "\n",
    "You can create projects in RIME to organize your test runs. Each project represents a workspace for a given machine learning task. It can contain multiple candidate models, but should only contain one promoted production model.  "
   ]
  },
  {
   "cell_type": "code",
   "execution_count": null,
   "metadata": {
    "id": "YEghhVY8vy6K"
   },
   "outputs": [],
   "source": [
    "description = (\n",
    "    \"Run Stress Testing, Continuous Testing and AI Firewall on a tabular\"\n",
    "    \" binary classification model and dataset. Demonstration uses a\"\n",
    "    \" dataset that simulates credit card fraud detection.\"\n",
    ")\n",
    "project = client.create_project(\n",
    "    name='Tabular Binary Classification Demo', \n",
    "    description=description, \n",
    "    model_task='MODEL_TASK_BINARY_CLASSIFICATION'\n",
    ")"
   ]
  },
  {
   "cell_type": "markdown",
   "metadata": {
    "id": "eXZ6e7kiTit6"
   },
   "source": [
    "**Go back to the UI to see the new Fraud Demo Project.**"
   ]
  },
  {
   "cell_type": "markdown",
   "metadata": {
    "id": "3lsxeLehwN7Y"
   },
   "source": [
    "## **Uploading the Model + Datasets**\n",
    "\n",
    "Let's first take a look at what the dataset looks like:"
   ]
  },
  {
   "cell_type": "code",
   "execution_count": null,
   "metadata": {
    "id": "rS6ST9KhZPEp"
   },
   "outputs": [],
   "source": [
    "df = pd.read_csv(Path('fraud/data/fraud_ref.csv'))\n",
    "df.head()"
   ]
  },
  {
   "cell_type": "markdown",
   "metadata": {
    "id": "6Mbokt95ZPfe"
   },
   "source": [
    "For this demo, we are going to use a pretrained CatBoostClassifier Model. \n",
    "\n",
    "The model predicts whether a particular transaction is fraud or not fraud.\n",
    "\n",
    "The model makes use of the following features - \n",
    "\n",
    "1.   category\n",
    "2.   card_type\n",
    "3.   card_company\n",
    "4.   transaction_amount\n",
    "5.   browser_version\n",
    "6.   city\n",
    "7.   country\n",
    "\n",
    "\n",
    "We now want to kick off RIME Stress Tests that will help us evaluate the model in further depth beyond basic performance metrics like accuracy, precision, recall. In order to do this, we will upload this pre-trained model, the reference dataset the model was trained on, and the evaluation dataset the model was evaluated on to an S3 bucket that can be accessed by RIME."
   ]
  },
  {
   "cell_type": "code",
   "execution_count": null,
   "metadata": {
    "id": "U1mcyn9JwdWQ"
   },
   "outputs": [],
   "source": [
    "upload_path = \"ri_public_examples_fraud\"\n",
    "\n",
    "model_s3_dir = client.upload_directory(\n",
    "    Path('fraud/models'), upload_path=upload_path\n",
    ")\n",
    "model_s3_path = model_s3_dir + \"/fraud_model.py\"\n",
    "\n",
    "ref_s3_path = client.upload_file(\n",
    "    Path('fraud/data/fraud_ref.csv'), upload_path=upload_path\n",
    ")\n",
    "eval_s3_path = client.upload_file(\n",
    "    Path('fraud/data/fraud_eval.csv'), upload_path=upload_path\n",
    ")\n",
    "\n",
    "ref_preds_s3_path = client.upload_file(\n",
    "    Path(\"fraud/data/fraud_ref_preds.csv\"), upload_path=upload_path\n",
    ")\n",
    "eval_preds_s3_path = client.upload_file(\n",
    "    Path(\"fraud/data/fraud_eval_preds.csv\"), upload_path=upload_path\n",
    ")"
   ]
  },
  {
   "cell_type": "markdown",
   "metadata": {},
   "source": [
    "Once the data and model are uploaded to S3, we can register them to RIME. Once they're registered, we can refer to these resources using their RIME-generated ID's."
   ]
  },
  {
   "cell_type": "code",
   "execution_count": null,
   "metadata": {},
   "outputs": [],
   "source": [
    "from datetime import datetime\n",
    "\n",
    "dt = str(datetime.now())\n",
    "\n",
    "# Note: models and datasets need to have unique names.\n",
    "model_id = project.register_model_from_path(f\"model_{dt}\", model_s3_path)\n",
    "\n",
    "ref_dataset_id = project.register_dataset_from_file(\n",
    "    f\"ref_dataset_{dt}\", ref_s3_path, data_params={\"label_col\": \"label\"}\n",
    ")\n",
    "eval_dataset_id = project.register_dataset_from_file(\n",
    "    f\"eval_dataset_{dt}\", eval_s3_path, data_params={\"label_col\": \"label\"}\n",
    ")\n",
    "\n",
    "project.register_predictions_from_file(\n",
    "    ref_dataset_id, model_id, ref_preds_s3_path\n",
    ")\n",
    "project.register_predictions_from_file(\n",
    "    eval_dataset_id, model_id, eval_preds_s3_path\n",
    ")"
   ]
  },
  {
   "cell_type": "markdown",
   "metadata": {
    "id": "yCasNMsy0Avt"
   },
   "source": [
    "## **Running a Stress Test**\n",
    "\n",
    "AI Stress Tests allow you to test your data and model before deployment. They are a comprehensive suite of hundreds of tests that automatically identify implicit assumptions and weaknesses of pre-production models. Each stress test is run on a single model and its associated reference and evaluation datasets. \n",
    "\n",
    "Below is a sample configuration of how to setup and run a RIME Stress Test."
   ]
  },
  {
   "cell_type": "code",
   "execution_count": null,
   "metadata": {
    "id": "MA-mVn3pzVA1"
   },
   "outputs": [],
   "source": [
    "stress_test_config = {\n",
    "    \"run_name\": \"Onboarding Stress Test Run\", \n",
    "    \"data_info\": {\n",
    "        \"ref_dataset_id\": ref_dataset_id, \n",
    "        \"eval_dataset_id\": eval_dataset_id,\n",
    "    }, \n",
    "    \"model_id\": model_id\n",
    "}\n",
    "stress_job =client.start_stress_test(\n",
    "    stress_test_config, project.project_id\n",
    ")\n",
    "stress_job.get_status(verbose=True, wait_until_finish=True)"
   ]
  },
  {
   "cell_type": "markdown",
   "metadata": {
    "id": "LFB5nVEaTtnB"
   },
   "source": [
    "**Wait for a couple minutes and your results will appear in the UI.**"
   ]
  },
  {
   "cell_type": "markdown",
   "metadata": {
    "id": "ovrKDoifIxIm"
   },
   "source": [
    "## **Stress Test Results**\n",
    "\n",
    "Stress tests are grouped into categories that measure various aspects of model robustness (model behavior, distribution drift, abnormal input, transformations, adversarial attacks, data cleanliness). Suggestions to improve your model are aggregated on the category level as well. Tests are ranked by default by a shared severity metric. Clicking on an individual test surfaces more detailed information. \n",
    "\n",
    "\n",
    "You can view the detailed results in the UI by running the below cell and redirecting to the generated link. This page shows granular results for a given AI Stress Test run. "
   ]
  },
  {
   "cell_type": "code",
   "execution_count": null,
   "metadata": {
    "id": "h2iYOcGiI16-"
   },
   "outputs": [],
   "source": [
    "test_run = stress_job.get_test_run()\n",
    "test_run"
   ]
  },
  {
   "cell_type": "markdown",
   "metadata": {
    "id": "1zKDo7TOYYds",
    "tags": []
   },
   "source": [
    "### **Analyzing the Results**\n",
    "\n",
    "Below you can see a snapshot of the results. \n"
   ]
  },
  {
   "cell_type": "markdown",
   "metadata": {
    "id": "h2jQYUDmknsU"
   },
   "source": [
    "![img_2](https://drive.google.com/uc?id=1Cq7kvoBlnOw3bMlCTFxfkeszTLKNnNZh)"
   ]
  },
  {
   "cell_type": "markdown",
   "metadata": {
    "id": "1oO26DNFoJQV"
   },
   "source": [
    "Here are the results of the Subset Performance tests. These tests can be thought as more detailed performance tests that identify subsets of underperformance. These tests help ensure that the model works equally well across different groups."
   ]
  },
  {
   "cell_type": "markdown",
   "metadata": {
    "id": "Nc1TzYeqkn1k"
   },
   "source": [
    "![img_3](https://drive.google.com/uc?id=1ityHRKipkvMi8aU3nMS3Xb9ewrSUDhnx)"
   ]
  },
  {
   "cell_type": "markdown",
   "metadata": {
    "id": "EfnKH70fpmmu"
   },
   "source": [
    "Below we are exploring the \"Subset Recall\" test cases for the feature \"City\". We can see that even though the model has a Recall of 0.81, it performs poorly on certain cities like Sao Paolo and Rio De Janeiro. "
   ]
  },
  {
   "cell_type": "markdown",
   "metadata": {
    "id": "g91I82zRkoH5"
   },
   "source": [
    "![img_4](https://drive.google.com/uc?id=1epNLMxOVLVoiByCBJ-sCHM4QgopYEDYW)"
   ]
  },
  {
   "cell_type": "markdown",
   "metadata": {
    "id": "XGivw_Weookf"
   },
   "source": [
    "### **Programmatically Querying the Results**"
   ]
  },
  {
   "cell_type": "markdown",
   "metadata": {
    "id": "HB4A2GouWysL"
   },
   "source": [
    "RIME not only provides you with an intuitive UI to visualize and explore these results, but also allows you to programmatically query these results. This allows customers to integrate with their MLOps pipeline, log results to experiment management tools like MLFlow, bring automated decision making to their ML practicies, or store these results for future references. \n",
    "\n",
    "Run the below cell to programmatically query the results. The results are outputed as a pandas dataframe."
   ]
  },
  {
   "cell_type": "markdown",
   "metadata": {
    "id": "fTWLakM8VQj6"
   },
   "source": [
    "**Access results at the a test run overview level**"
   ]
  },
  {
   "cell_type": "code",
   "execution_count": null,
   "metadata": {
    "id": "dgawCIZWLFST"
   },
   "outputs": [],
   "source": [
    "test_run_result = test_run.get_result_df()\n",
    "test_run_result"
   ]
  },
  {
   "cell_type": "markdown",
   "metadata": {
    "id": "tUUcNh7XVUPl"
   },
   "source": [
    "**Access detailed test results at each individual test cases level.**"
   ]
  },
  {
   "cell_type": "code",
   "execution_count": null,
   "metadata": {
    "id": "u2qh2linVIt9"
   },
   "outputs": [],
   "source": [
    "test_case_result = test_run.get_test_cases_df()\n",
    "test_case_result.head()"
   ]
  },
  {
   "cell_type": "markdown",
   "metadata": {
    "id": "5f7LPX1pqOhP",
    "tags": []
   },
   "source": [
    "## **Deploy to Production and Create the AI Firewall**\n",
    "\n",
    "Once you have identified the best stress test run, you can deploy the associated model and set up a RIME Firewall to run Continuous Testing in order to automatically detect “bad” incoming data and statistically significant distributional drift. "
   ]
  },
  {
   "cell_type": "code",
   "execution_count": null,
   "metadata": {},
   "outputs": [],
   "source": [
    "from datetime import timedelta\n",
    "\n",
    "firewall = project.create_firewall(model_id, ref_dataset_id, timedelta(days=1))"
   ]
  },
  {
   "cell_type": "markdown",
   "metadata": {
    "id": "a0Lw2YBXBkb4"
   },
   "source": [
    "## **Uploading a Batch of Production Data & Model Predictions to Firewall**\n",
    "\n",
    "The fraud detection model has been in production for 30 days. Production data and model predictions have been collected and stored for the past 30 days. Now, we will use Firewall to track how the model performed across the last 30 days. "
   ]
  },
  {
   "cell_type": "markdown",
   "metadata": {
    "id": "g7McYwfDUztC"
   },
   "source": [
    "**Upload the Latest Batch of Production Data**"
   ]
  },
  {
   "cell_type": "code",
   "execution_count": null,
   "metadata": {
    "id": "zsmlbMIFUzAy"
   },
   "outputs": [],
   "source": [
    "dt = str(datetime.now())\n",
    "prod_s3_path = client.upload_file(\n",
    "    Path('fraud/data/fraud_incremental.csv'), \n",
    "    upload_path=upload_path\n",
    ")\n",
    "prod_dataset_id = project.register_dataset_from_file(\n",
    "    f\"prod_dataset_{dt}\", \n",
    "    prod_s3_path, \n",
    "    data_params={\"label_col\": \"label\", \"timestamp_col\": \"timestamp\"}\n",
    ")\n",
    "prod_preds_s3_path = client.upload_file(\n",
    "    Path('fraud/data/fraud_incremental_preds.csv'), \n",
    "    upload_path=upload_path\n",
    ")\n",
    "project.register_predictions_from_file(\n",
    "    prod_dataset_id, model_id, prod_preds_s3_path\n",
    ")"
   ]
  },
  {
   "cell_type": "markdown",
   "metadata": {
    "id": "e-ooaBT-U4yr"
   },
   "source": [
    "**Run Continuous Testing over Batch of Data**"
   ]
  },
  {
   "cell_type": "code",
   "execution_count": null,
   "metadata": {
    "id": "EHxteK1gUklo"
   },
   "outputs": [],
   "source": [
    "ct_job = firewall.start_continuous_test(prod_dataset_id)\n",
    "ct_job.get_status(verbose=True, wait_until_finish=True)\n",
    "firewall"
   ]
  },
  {
   "cell_type": "markdown",
   "metadata": {
    "id": "ifxKz_p6Uc63"
   },
   "source": [
    "**Wait for a couple minutes and your results will appear in the UI.**"
   ]
  },
  {
   "cell_type": "markdown",
   "metadata": {},
   "source": [
    "## **Querying Results from the Firewall**"
   ]
  },
  {
   "cell_type": "markdown",
   "metadata": {},
   "source": [
    "After a firewall has been created and data has been uploaded for processing, the user can query the results throughout the entire uploaded history."
   ]
  },
  {
   "cell_type": "markdown",
   "metadata": {},
   "source": [
    "**Obtain All Detection Events**"
   ]
  },
  {
   "cell_type": "code",
   "execution_count": null,
   "metadata": {},
   "outputs": [],
   "source": [
    "events = [d.to_dict() for m in firewall.list_monitors() for d in m.list_detected_events()]\n",
    "events_df = pd.DataFrame(events).drop([\"id\", \"project_id\", \"firewall_id\", \"event_object_id\", \"description_html\", \"last_update_time\"], axis=1)\n",
    "events_df.head()"
   ]
  },
  {
   "cell_type": "markdown",
   "metadata": {
    "id": "vmpxUnaLMn-u"
   },
   "source": [
    "\n",
    "## **Firewall Overview**\n",
    "\n",
    "The Overview page is the mission control for your model’s production deployment health. In it, you can see the status of firewall events, get notified when model performance degrades, and see the underlying causes of failure.  \n"
   ]
  },
  {
   "cell_type": "markdown",
   "metadata": {
    "id": "AFuGGg8uNtC2"
   },
   "source": [
    "![img_5](https://drive.google.com/uc?id=1pfhPG2IikcVM5QIyEzr3zv86O0ED3y-m)"
   ]
  },
  {
   "cell_type": "markdown",
   "metadata": {
    "id": "MzMea8BUFOT1"
   },
   "source": [
    "## **Firewall CT Results**\n",
    "\n",
    "The AI Firewall’s Continuous Tests operate at the batch level and provide a mechanism to monitor the health of ML deployments in production. They allow the user to understand when errors begin to occur and surface the underlying drivers of such errors. \n",
    "\n",
    "You can explore the results in the UI by running the below cell and redirecting to the generated link.\n"
   ]
  },
  {
   "cell_type": "code",
   "execution_count": null,
   "metadata": {
    "id": "Qndn2zUMLhJo"
   },
   "outputs": [],
   "source": [
    "firewall"
   ]
  },
  {
   "cell_type": "markdown",
   "metadata": {
    "id": "ycu422woQkoA"
   },
   "source": [
    "### **Analyzing CT Results**\n",
    "\n",
    "**Model performance decreases over time** - In the below image, we can see that the Recall (model performance) has decreased over time from when the model was first deployed. On 08/01 when the model was deployed, Recall was 0.927. By 08/30, Recall had dropped to 0.668"
   ]
  },
  {
   "cell_type": "markdown",
   "metadata": {
    "id": "jwelJ7gcLqgV"
   },
   "source": [
    "![img_6](https://drive.google.com/uc?id=1vg4Xci953SmSTJij9x5c46nAWnzTUlDh)"
   ]
  },
  {
   "cell_type": "markdown",
   "metadata": {
    "id": "BMeR6Wd6OtqX"
   },
   "source": [
    "**Prediction drift increases over time** In the below image, we can see that the Prediction Drift has increased over time from when the model was first deployed. On 08/01 when the model was deployed, PSI was 0.119. By 08/30, PSI had increased to 1.96. "
   ]
  },
  {
   "cell_type": "markdown",
   "metadata": {
    "id": "NGg3VFtvLqNx"
   },
   "source": [
    "![img_7](https://drive.google.com/uc?id=16SlAWB33oSMvfeJIYkHGMQ9RKflR9h0D)"
   ]
  },
  {
   "cell_type": "markdown",
   "metadata": {},
   "source": [
    "# Appendix"
   ]
  },
  {
   "cell_type": "markdown",
   "metadata": {},
   "source": [
    "## Uploading a Model to RIME\n",
    "To be able to run certain tests, RIME needs query access to your model. To give RIME access, you'll need to write a Python file that implements the `predict_df(df: pd.DataFrame) -> np.ndarray` function, and upload that file (and any objects that it loads) to the platform. Here we provide an example model file, show you how to upload this file and the relevant model artifacts, and show you how to configure stress tests to use this model."
   ]
  },
  {
   "cell_type": "code",
   "execution_count": null,
   "metadata": {},
   "outputs": [],
   "source": [
    "%%writefile fraud/models/fraud_model.py\n",
    "from pathlib import Path\n",
    "\n",
    "from catboost import CatBoostClassifier\n",
    "import numpy as np\n",
    "import pandas as pd\n",
    "\n",
    "\n",
    "mod = CatBoostClassifier()\n",
    "# Load our CatBoost model. Note that this requires us to\n",
    "# upload fraud_model.catb along with this Python file,\n",
    "# in the same directory.\n",
    "mod.load_model(Path(__file__).parent / \"fraud_model.catb\")\n",
    "cat_cols = [\n",
    "    'category', \n",
    "    'card_type', \n",
    "    'card_company', \n",
    "    'city', \n",
    "    'browser_version', \n",
    "    'country',\n",
    "]\n",
    "\n",
    "def predict_df(df: pd.DataFrame) -> np.ndarray:\n",
    "    \"\"\"Given data as a pandas DataFrame, return probabilities as a NumPy array.\"\"\"\n",
    "    for col in cat_cols:\n",
    "        df[col] = df[col].astype(object)\n",
    "    # For binary classification we expect a one-dimensional\n",
    "    # array for the probabilities, where the score for each datapoint\n",
    "    # is the probability that the label is 1.\n",
    "    return mod.predict_proba(df.fillna(0))[:,1]\n"
   ]
  },
  {
   "cell_type": "code",
   "execution_count": null,
   "metadata": {},
   "outputs": [],
   "source": [
    "# Note that 'fraud/models' directory already contains the 'fraud_model.catb' file.\n",
    "appendix_model_dir = client.upload_directory(\n",
    "    Path('fraud/models'), upload_path=upload_path\n",
    ")\n",
    "appendix_model_path = appendix_model_dir + \"/fraud_model.py\"\n",
    "appendix_model_id = project.register_model_from_path(\n",
    "    f\"appendix_model_{dt}\", appendix_model_path\n",
    ")\n",
    "stress_test_with_model_config = {\n",
    "    \"run_name\": \"Uploaded Model Example\",\n",
    "    \"data_info\": {\n",
    "        \"ref_dataset_id\": ref_dataset_id, \n",
    "        \"eval_dataset_id\": eval_dataset_id,\n",
    "    },\n",
    "    \"model_id\": appendix_model_id\n",
    "}\n",
    "stress_job = client.start_stress_test(\n",
    "    stress_test_with_model_config, project.project_id\n",
    ")\n",
    "stress_job.get_status(verbose=True, wait_until_finish=True)"
   ]
  },
  {
   "cell_type": "markdown",
   "metadata": {},
   "source": [
    "## Running a Custom Test\n",
    "With RIME you can write your own custom tests, to encode any domain-specific validation you want to perform. These tests will run and be uploaded to the platform just like any of the built-in tests. To run a custom test you need to implement a specific interface in Python, upload the file to the platform, and point to it in your configuration. Below we provide a simple example of a custom test that checks if the difference in the length of the reference and evaluation datasets does not exceed some threshold."
   ]
  },
  {
   "cell_type": "code",
   "execution_count": null,
   "metadata": {},
   "outputs": [],
   "source": [
    "%%writefile fraud/custom_test.py\n",
    "\"\"\"Custom test batch runner.\"\"\"\n",
    "from typing import List, Tuple\n",
    "\n",
    "from rime.core.schema import (\n",
    "    CustomConfig,\n",
    "    ImportanceLevel,\n",
    "    Status,\n",
    "    TableColumn,\n",
    "    TestBatchResult,\n",
    "    TestOutput,\n",
    ")\n",
    "from rime.core.test import BaseTest, TestExtraInfo\n",
    "from rime.tabular.data_tests.batch_runner import DataTestBatchRunner\n",
    "from rime.tabular.data_tests.schema.result import DataTestBatchResult, DataTestOutput\n",
    "from rime.tabular.profiler.run_containers import TabularRunContainer\n",
    "\n",
    "\n",
    "# Signature should not be changed.\n",
    "class CustomTest(BaseTest):\n",
    "    def __init__(self, delta: int = 0):\n",
    "        \"\"\"Initialize with a delta between n_rows ref and eval.\"\"\"\n",
    "        super().__init__()\n",
    "        self.delta = delta\n",
    "\n",
    "    # Signature should not be changed.\n",
    "    def run(\n",
    "        self, \n",
    "        run_container: TabularRunContainer, \n",
    "        silent_errors: bool = False\n",
    "    ) -> Tuple[TestOutput, TestExtraInfo]:\n",
    "        ref_data_size = len(run_container.ref_data.df)\n",
    "        eval_data_size = len(run_container.eval_data.df)\n",
    "        if ref_data_size > eval_data_size + self.delta:\n",
    "            status = Status.WARNING\n",
    "            severity = ImportanceLevel.HIGH\n",
    "        else:\n",
    "            status = Status.PASS\n",
    "            severity = ImportanceLevel.NONE\n",
    "        test_output = DataTestOutput(\n",
    "            self.id, status, {\"Severity\": severity}, severity, [],\n",
    "        )\n",
    "        return test_output, TestExtraInfo(severity)\n",
    "\n",
    "\n",
    "# Signature should not be changed.\n",
    "class CustomBatchRunner(DataTestBatchRunner):\n",
    "    \"\"\"TestBatchRunner for the CustomTest.\"\"\"\n",
    "\n",
    "    # Signature should not be changed.\n",
    "    @classmethod\n",
    "    def _from_config(\n",
    "        cls, run_container: TabularRunContainer,  config: CustomConfig, category: str\n",
    "    ) -> \"DataTestBatchRunner\":\n",
    "        if config.params is None:\n",
    "            delta = 0\n",
    "        else:\n",
    "            delta = config.params[\"delta\"]\n",
    "        tests = [CustomTest(delta=delta)]\n",
    "        return cls(tests, category)\n",
    "\n",
    "    # Signature should not be changed.\n",
    "    def _outputs_to_batch_res(\n",
    "        self,\n",
    "        run_container: TabularRunContainer,\n",
    "        outputs: List[DataTestOutput],\n",
    "        extra_infos: List[dict],\n",
    "        duration: float,\n",
    "        return_extra_infos: bool,\n",
    "    ) -> TestBatchResult:\n",
    "        long_description_tabs = [\n",
    "            {\"title\": \"Description\", \"contents\": self.long_description},\n",
    "            {\"title\": \"Why it Matters\", \"contents\": \"Explain why this test matters.\"},\n",
    "            {\n",
    "                \"title\": \"Configuration\",\n",
    "                \"contents\": \"Explain how this test is configured.\"\n",
    "            },\n",
    "            {\n",
    "                \"title\": \"Example\",\n",
    "                \"contents\": \"Include an example of how this test works.\"\n",
    "            },\n",
    "        ]\n",
    "        return DataTestBatchResult(\n",
    "            self.type,\n",
    "            self.description,\n",
    "            long_description_tabs,\n",
    "            self.category,\n",
    "            outputs,\n",
    "            [],\n",
    "            duration,\n",
    "            extra_infos,\n",
    "            [TableColumn(\"Severity\")],\n",
    "            outputs[0].severity,\n",
    "            show_in_test_comparisons=False,\n",
    "        )\n",
    "\n",
    "    # Signature should not be changed.\n",
    "    @property\n",
    "    def description(self) -> str:\n",
    "        return \"This is custom test\"\n",
    "\n",
    "    # Signature should not be changed.\n",
    "    @property\n",
    "    def long_description(self) -> str:\n",
    "        return \"This is a long description of a custom test.\"\n",
    "\n",
    "    # Signature should not be changed.\n",
    "    @property\n",
    "    def type(self) -> str:\n",
    "        return \"Example Custom Test\"\n"
   ]
  },
  {
   "cell_type": "code",
   "execution_count": null,
   "metadata": {},
   "outputs": [],
   "source": [
    "custom_test_path = client.upload_file(\"fraud/custom_test.py\", upload_path=upload_path)"
   ]
  },
  {
   "cell_type": "code",
   "execution_count": null,
   "metadata": {},
   "outputs": [],
   "source": [
    "stress_test_with_model_config = {\n",
    "    \"run_name\": \"Custom Test Example\",\n",
    "    \"data_info\": {\n",
    "        \"ref_dataset_id\": ref_dataset_id, \n",
    "        \"eval_dataset_id\": eval_dataset_id,\n",
    "    },\n",
    "    \"test_suite_config\": {\n",
    "        \"custom_tests\": [\n",
    "            {\n",
    "                \"custom_test_category\": \"Data Cleanliness\", \n",
    "                \"test_path\": custom_test_path\n",
    "            }\n",
    "        ],\n",
    "    },\n",
    "    \"model_id\": model_id\n",
    "}\n",
    "stress_job = client.start_stress_test(\n",
    "    stress_test_with_model_config, project.project_id\n",
    ")\n",
    "stress_job.get_status(verbose=True, wait_until_finish=True)"
   ]
  },
  {
   "cell_type": "code",
   "execution_count": null,
   "metadata": {},
   "outputs": [],
   "source": [
    "stress_job.get_test_run()"
   ]
  }
 ],
 "metadata": {
  "colab": {
   "collapsed_sections": [],
   "name": "RIME_Fraud_OnboardingWalkthrough.ipynb",
   "provenance": []
  },
  "kernelspec": {
   "display_name": "Python (myenv)",
   "language": "python",
   "name": "myenv"
  },
  "language_info": {
   "codemirror_mode": {
    "name": "ipython",
    "version": 3
   },
   "file_extension": ".py",
   "mimetype": "text/x-python",
   "name": "python",
   "nbconvert_exporter": "python",
   "pygments_lexer": "ipython3",
   "version": "3.7.6"
  }
 },
 "nbformat": 4,
 "nbformat_minor": 4
}
