{
 "cells": [
  {
   "cell_type": "markdown",
   "id": "96da536c",
   "metadata": {},
   "source": [
    "# **Using the RIME Platform REST API.**\n",
    "\n",
    "In this Notebook Walkthrough, we will walkthrough one of RIME's core products using our REST API - AI Stress Testing.\n",
    "\n",
    "AI Stress Testing is used in the model development stage. Using AI Stress Testing you can test the developed model. RIME goes beyond simply optimizing for basic model performance like accuracy and automatically discovers the model's weaknesses."
   ]
  },
  {
   "cell_type": "code",
   "execution_count": 1,
   "id": "1d0121cd-fdc5-4d48-a667-67057c9572f6",
   "metadata": {},
   "outputs": [],
   "source": [
    "import json\n",
    "import requests\n",
    "import time\n",
    "import uuid\n",
    "from datetime import datetime\n",
    "from typing import List, Optional, Tuple"
   ]
  },
  {
   "cell_type": "markdown",
   "id": "c88f2d41",
   "metadata": {},
   "source": [
    "## **Establish the RIME Client.**\n",
    "To get started, provide the API credentials and the base domain/address of the RIME service. You can generate and copy an API token from the API Access Tokens Page under Workspace settings. For the domain/address of the RIME service, contact your admin."
   ]
  },
  {
   "cell_type": "code",
   "execution_count": 2,
   "id": "8a0eadc9",
   "metadata": {},
   "outputs": [],
   "source": [
    "API_KEY = \"\" # Paste API_KEY\n",
    "headers = {\"rime-api-key\": API_KEY}\n",
    "\n",
    "CLUSTER_URL = \"\" # PASTE DOMAIN OF RIME SERVICE (eg: rime.example.rbst.io)\n",
    "API_URL = f\"https://{CLUSTER_URL}\""
   ]
  },
  {
   "cell_type": "markdown",
   "id": "e197934c",
   "metadata": {},
   "source": [
    "## **Create a New Project.**\n",
    "You can create Projects in RIME to organize your Test Runs. Each Project represents a workspace for a given machine learning task. It can contain multiple candidate models, but should only contain one promoted production model."
   ]
  },
  {
   "cell_type": "code",
   "execution_count": 3,
   "id": "4c6d48aa",
   "metadata": {},
   "outputs": [],
   "source": [
    "# Create a Project for the Natural Language Inference model task.\n",
    "req = {\n",
    "    \"name\": \"NLP Example\",\n",
    "    \"description\": \"Example stress test on NLP data.\",\n",
    "    \"model_task\": \"MODEL_TASK_NATURAL_LANGUAGE_INFERENCE\"\n",
    "}\n",
    "api_endpoint = f\"{API_URL}/v1/projects\"\n",
    "res = requests.post(\n",
    "    api_endpoint,\n",
    "    json=req,\n",
    "    headers=headers,\n",
    ")\n",
    "assert res.status_code == 200\n",
    "# Get the Project ID from the response. This will be needed to start a Stress Test.\n",
    "project_id = res.json()[\"project\"][\"id\"]"
   ]
  },
  {
   "cell_type": "markdown",
   "id": "50d85b23",
   "metadata": {},
   "source": [
    "## **Optional: Create Job Tracker.**\n",
    "Once a Stress Test request or Managed Image request has been sent, we have to wait until the Job completes before checking for results. The following helper functions track the status of a job by blocking until the Job has status \"Succeeded\"."
   ]
  },
  {
   "cell_type": "code",
   "execution_count": 4,
   "id": "dc76dcc9",
   "metadata": {},
   "outputs": [],
   "source": [
    "# Helper function for displaying Job Status.\n",
    "def _add_padding(string: str) -> str:\n",
    "    max_str_len = len(\"JOB_STATUS_REQUESTED\")\n",
    "    padding_len = max(max_str_len - len(string), 0)\n",
    "    return string + \" \" * padding_len\n",
    "\n",
    "# Helper function for periodically querying for Job status.\n",
    "def track_job(job_id):\n",
    "    time.sleep(1)\n",
    "    api_endpoint = f\"{API_URL}/v1-beta/jobs/{job_id}\"\n",
    "    res = requests.get(api_endpoint, headers=headers)\n",
    "    job_status = res.json()[\"job\"][\"status\"]\n",
    "\n",
    "    i = 0\n",
    "    while job_status != \"JOB_STATUS_SUCCEEDED\":\n",
    "        res = requests.get(api_endpoint, headers=headers)\n",
    "        res_json = res.json()\n",
    "        job_status = res.json()[\"job\"][\"status\"]\n",
    "        i += 1\n",
    "        print(f\"Poll count: {i}.\\tJob status: {_add_padding(job_status)}\", end=\"\\r\")\n",
    "        if job_status == \"JOB_STATUS_FAILED\":\n",
    "            logs_url = res_json[\"job\"][\"archivedJobLogs\"][\"url\"][\"url\"]\n",
    "            raise ValueError(f\"Test run failed. Job logs available at {logs_url}.\")\n",
    "        time.sleep(10)\n",
    "\n",
    "    return res_json"
   ]
  },
  {
   "cell_type": "markdown",
   "id": "a2a16869",
   "metadata": {},
   "source": [
    "## **Create Managed Image.**\n",
    "In order to run a Stress Test against a huggingface model, we have to create a Managed Image with the model's pip requirements pre-installed. The following snippet checks if a huggingface Managed Image exists, and if not, creates one."
   ]
  },
  {
   "cell_type": "code",
   "execution_count": 5,
   "id": "17940fb0",
   "metadata": {},
   "outputs": [],
   "source": [
    "managed_image_name = \"huggingface_image\"\n",
    "\n",
    "api_endpoint = f\"{API_URL}/images/{managed_image_name}\"\n",
    "res = requests.get(api_endpoint, headers=headers)\n",
    "managed_image_exists = (res.status_code == 200)\n",
    "\n",
    "if not managed_image_exists:\n",
    "    req = {\n",
    "        \"name\": managed_image_name,\n",
    "        \"pip_requirements\": [\n",
    "            {\"name\": \"transformers\"},\n",
    "            {\"name\": \"datasets\"},\n",
    "        ],\n",
    "    }\n",
    "    api_endpoint = f\"{API_URL}/images\"\n",
    "    res = requests.post(api_endpoint, headers=headers)\n",
    "    job_id = res.json()[\"job\"][\"jobId\"]\n",
    "    \n",
    "    track_job(job_id)"
   ]
  },
  {
   "cell_type": "code",
   "execution_count": 6,
   "id": "18b239ec",
   "metadata": {},
   "outputs": [],
   "source": [
    "# These are the URIs of the model that we want to Stress Test, and an associated dataset.\n",
    "DATASET_URI = \"rungalileo/snli\"\n",
    "MODEL_URI = \"cross-encoder/nli-MiniLM2-L6-H768\""
   ]
  },
  {
   "cell_type": "markdown",
   "id": "08208cb6",
   "metadata": {},
   "source": [
    "## **Register Dataset**\n",
    "Now that we have the huggingface model URIs, we can register them and the dataset to RIME. Once they're registed, we can refer to these resources using their RIME-generated ID's."
   ]
  },
  {
   "cell_type": "code",
   "execution_count": 7,
   "id": "b70777af",
   "metadata": {},
   "outputs": [],
   "source": [
    "dt = str(datetime.now())\n",
    "\n",
    "# Register the huggingface dataset.\n",
    "def register_dataset(dataset_uri, split_name):\n",
    "    api_endpoint = f\"{API_URL}/v1/registry/dataset/{project_id['uuid']}\"\n",
    "    req = {\n",
    "        # Note: models and datasets need to have unique names.\n",
    "        \"name\": f\"{dataset_uri}_{split_name}_{dt}\",\n",
    "        \"data_info\": {\n",
    "            \"connection_info\": {\n",
    "                \"hugging_face\": {\n",
    "                    \"dataset_uri\": dataset_uri,\n",
    "                    \"split_name\": split_name,\n",
    "                    # TODO: remove line below\n",
    "                    \"loading_params_json\": json.dumps({}),\n",
    "                },\n",
    "            },\n",
    "            \"data_params\": {\n",
    "                \"label_col\": \"label\",\n",
    "                \"text_features\": [\"premise\", \"hypothesis\"],\n",
    "                \"class_names\": [\"Contradiction\", \"Neutral\", \"Entailment\"],\n",
    "            },\n",
    "        },\n",
    "    }\n",
    "    res = requests.post(api_endpoint, json=req, headers=headers)\n",
    "    return res.json()[\"datasetId\"]\n",
    "\n",
    "\n",
    "ref_data_id = register_dataset(DATASET_URI, \"train\")\n",
    "eval_data_id = register_dataset(DATASET_URI, \"test\")"
   ]
  },
  {
   "cell_type": "markdown",
   "id": "b983b1b5",
   "metadata": {},
   "source": [
    "## **Register Model**"
   ]
  },
  {
   "cell_type": "code",
   "execution_count": 8,
   "id": "751988dd",
   "metadata": {},
   "outputs": [],
   "source": [
    "api_endpoint = f\"{API_URL}/v1/registry/model/{project_id['uuid']}\"\n",
    "req = {\n",
    "    # Note: models and datasets need to have unique names.\n",
    "    \"name\": f\"{MODEL_URI}_{dt}\",\n",
    "    \"model_info\": {\n",
    "        \"hugging_face\": {\n",
    "            \"model_uri\": MODEL_URI,\n",
    "        },\n",
    "    },\n",
    "}\n",
    "res = requests.post(api_endpoint, json=req, headers=headers)\n",
    "model_id = res.json()[\"modelId\"]"
   ]
  },
  {
   "cell_type": "markdown",
   "id": "fb01bcea",
   "metadata": {},
   "source": [
    "## **Create Test Run Config**\n",
    "Below is a sample configuration of how to setup and run a RIME Stress Test. The configuration includes important information, such as the IDs of the model, reference dataset, evaluation dataset and the name of a Managed Image to use (optional)."
   ]
  },
  {
   "cell_type": "code",
   "execution_count": 9,
   "id": "1b5be11f",
   "metadata": {},
   "outputs": [],
   "source": [
    "config = {\n",
    "    \"run_name\": \"NLP Stress Test\",\n",
    "    \"model_id\": model_id,\n",
    "    \"data_info\": {\n",
    "        \"ref_dataset_id\": ref_data_id,\n",
    "        \"eval_dataset_id\": eval_data_id,\n",
    "    },\n",
    "    \"run_time_info\": {\n",
    "        \"custom_image\": {\n",
    "            \"managed_image_name\": managed_image_name,\n",
    "        },\n",
    "    },\n",
    "    \"test_suite_config\": {\n",
    "        \"individual_tests_config\": json.dumps({\"global_exclude_columns\": [\"id\"]}),\n",
    "    },\n",
    "}"
   ]
  },
  {
   "cell_type": "markdown",
   "id": "ffcc1f67",
   "metadata": {},
   "source": [
    "## **Run Stress Test**\n",
    "With a completed Test Run Configuration, we can now start a Stress Test and track its progress until the tests complete."
   ]
  },
  {
   "cell_type": "code",
   "execution_count": null,
   "id": "ccab53cd",
   "metadata": {},
   "outputs": [],
   "source": [
    "req = {\"test_run_config\": config}\n",
    "api_endpoint = f\"{API_URL}/v1/stress-tests/{project_id['uuid']}\"\n",
    "res = requests.post(api_endpoint, json=req, headers=headers)\n",
    "job_id = res.json()[\"job\"][\"jobId\"]\n",
    "\n",
    "# Track Stress Test Job Progress.\n",
    "res_json = track_job(job_id)\n",
    "\n",
    "# Once a Stress Test Job has completed, get the Test Run ID to access results.\n",
    "test_run_id = res_json[\"job\"][\"jobData\"][\"stress\"][\"testRunId\"]"
   ]
  },
  {
   "cell_type": "markdown",
   "id": "8d8dda5b",
   "metadata": {},
   "source": [
    "## **Get Test Run Results.**\n",
    "Once a Test Run completes, we can access the results of the Stress Test using the Test Run ID."
   ]
  },
  {
   "cell_type": "code",
   "execution_count": null,
   "id": "6198df23",
   "metadata": {},
   "outputs": [],
   "source": [
    "# Print information about a completed Test Run.\n",
    "api_endpoint = f\"{API_URL}/v1/test-runs/{test_run_id}\"\n",
    "res = requests.get(api_endpoint, headers=headers)\n",
    "print(res.json()[\"testRun\"])\n",
    "\n",
    "# List individual Test Cases from the Test Run.\n",
    "api_endpoint = f\"{API_URL}/v1/test-cases\"\n",
    "payload = {\"listTestCasesQuery.testRunId\": test_run_id}\n",
    "res = requests.get(api_endpoint, headers=headers, params=payload)\n",
    "print(res.json()[\"testCases\"])\n"
   ]
  }
 ],
 "metadata": {
  "kernelspec": {
   "display_name": "Python 3 (ipykernel)",
   "language": "python",
   "name": "python3"
  },
  "language_info": {
   "codemirror_mode": {
    "name": "ipython",
    "version": 3
   },
   "file_extension": ".py",
   "mimetype": "text/x-python",
   "name": "python",
   "nbconvert_exporter": "python",
   "pygments_lexer": "ipython3",
   "version": "3.8.15"
  },
  "vscode": {
   "interpreter": {
    "hash": "f741bca4f9b8ddfd670f2fa9f61c4f441cd8de906862a8d74a2d07bd8aaef458"
   }
  }
 },
 "nbformat": 4,
 "nbformat_minor": 5
}
