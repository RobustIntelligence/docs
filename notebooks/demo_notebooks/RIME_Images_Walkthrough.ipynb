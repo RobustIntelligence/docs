{
 "cells": [
  {
   "cell_type": "markdown",
   "id": "4a30e086",
   "metadata": {
    "id": "4a30e086"
   },
   "source": [
    "# **RI Image Classification Walkthrough**"
   ]
  },
  {
   "cell_type": "markdown",
   "id": "2a62b333",
   "metadata": {
    "id": "2a62b333"
   },
   "source": [
    "You are a data scientist working for a wildlife research foundation. The data science team has been tasked with implementing an animal classifier and monitoring how that model performs over time. The performance of this  model directly impacts the profits of the foundation. In order to ensure the data science team develops the best model and the performance of this model doesn't degrade over time, the VP of Data Science purchases the RIME platform.\n",
    "\n",
    "In this Notebook Walkthrough, we will walkthrough 2 of RIME's core products - **AI Stress Testing** and **AI Continuous Testing**.\n",
    "\n",
    "1. **AI Stress Testing** is used in the model development stage. Using AI Stress Testing you can test the developed model. RIME goes beyond simply optimizing for basic model performance like accuracy and automatically discovers the model's weaknesses.\n",
    "2. **AI Continuous Testing** is used after the model is deployed in production. Using AI Continuous Testing, you can automate the monitoring, discovery and remediation of issues that occur post-deployment."
   ]
  },
  {
   "cell_type": "markdown",
   "id": "583413e8",
   "metadata": {
    "id": "583413e8"
   },
   "source": [
    "## **Install Dependencies, Import Libraries and Download Data**"
   ]
  },
  {
   "cell_type": "markdown",
   "id": "b9d4e307",
   "metadata": {
    "id": "b9d4e307"
   },
   "source": [
    "Run the cell below to install libraries to prep data, install our SDK, and load analysis libraries."
   ]
  },
  {
   "cell_type": "code",
   "execution_count": null,
   "id": "2f86e16d",
   "metadata": {
    "id": "2f86e16d"
   },
   "outputs": [],
   "source": [
    "!pip install rime-sdk &> /dev/null\n",
    "!pip install git+https://github.com/RobustIntelligence/ri-public-examples.git &> /dev/null"
   ]
  },
  {
   "cell_type": "code",
   "execution_count": null,
   "id": "9b444671",
   "metadata": {},
   "outputs": [],
   "source": [
    "import json\n",
    "\n",
    "from rime_sdk import Client\n",
    "from ri_public_examples.download_files import download_files"
   ]
  },
  {
   "cell_type": "code",
   "execution_count": null,
   "id": "6-k0PD26CaRb",
   "metadata": {
    "id": "6-k0PD26CaRb"
   },
   "outputs": [],
   "source": [
    "download_files(\"images/classification/awa2\", \"awa2\")\n",
    "json.dump([x[\"probabilities\"] for x in json.load(open(\"awa2/data/train_inputs_trial.json\"))], open(\"awa2/data/train_preds_trial.json\", 'w'))\n",
    "json.dump([x[\"probabilities\"] for x in json.load(open(\"awa2/data/test_inputs_trial.json\"))], open(\"awa2/data/test_preds_trial.json\", 'w'))\n",
    "json.dump([x[\"probabilities\"] for x in json.load(open(\"awa2/data/test_inputs_monitoring_trial.json\"))], open(\"awa2/data/monitoring_preds_trial.json\", 'w'))"
   ]
  },
  {
   "cell_type": "markdown",
   "id": "4a7d2a42",
   "metadata": {
    "id": "4a7d2a42"
   },
   "source": [
    "## **Establish the RIME Client**"
   ]
  },
  {
   "cell_type": "markdown",
   "id": "c9b267b0",
   "metadata": {
    "id": "c9b267b0"
   },
   "source": [
    "To get started, provide the API credentials and the base domain/address of the RIME Cluster. You can generate and copy an API token from the API Access Tokens Page under Workspace settings. For the domain/address of the RIME Cluster, contact your admin."
   ]
  },
  {
   "cell_type": "markdown",
   "id": "6a594b58",
   "metadata": {},
   "source": [
    "![api.jpeg](https://www.dropbox.com/s/bpz7vb8j6a7zgwu/img_1_api.jpeg?dl=0)"
   ]
  },
  {
   "cell_type": "code",
   "execution_count": null,
   "id": "b0d848e6",
   "metadata": {
    "id": "b0d848e6"
   },
   "outputs": [],
   "source": [
    "API_TOKEN = '' # PASTE API_KEY \n",
    "CLUSTER_URL = '' # PASTE DEDICATED DOMAIN OF RIME SERVICE\n",
    "rime_client = Client(CLUSTER_URL, API_TOKEN)"
   ]
  },
  {
   "cell_type": "markdown",
   "id": "523277d9",
   "metadata": {
    "id": "523277d9"
   },
   "source": [
    "## **Create a New Project**"
   ]
  },
  {
   "cell_type": "markdown",
   "id": "3f56f17c",
   "metadata": {
    "id": "3f56f17c"
   },
   "source": [
    "You can create projects in RIME to organize your test runs. Each project represents a workspace for a given machine learning task. It can contain multiple candidate models, but should only contain one promoted production model."
   ]
  },
  {
   "cell_type": "code",
   "execution_count": null,
   "id": "451db172",
   "metadata": {
    "id": "451db172"
   },
   "outputs": [],
   "source": [
    "description = (\n",
    "    \"Run Stress Testing and Continuous Testing on an\"\n",
    "    \" image classification model and dataset. Demonstration uses \"\n",
    "    \" the Animals with Attributes 2 (AwA2) dataset.\"\n",
    ")\n",
    "project = rime_client.create_project(\n",
    "    'Image Classification Demo', \n",
    "    description,\n",
    "    \"MODEL_TASK_MULTICLASS_CLASSIFICATION\",\n",
    ")"
   ]
  },
  {
   "cell_type": "markdown",
   "id": "a03c7ae7",
   "metadata": {
    "id": "a03c7ae7"
   },
   "source": [
    "**Go back to the UI to see the  Project**"
   ]
  },
  {
   "cell_type": "markdown",
   "id": "9dbc9b57",
   "metadata": {
    "id": "9dbc9b57"
   },
   "source": [
    "## **Uploading the Datasets + Predictions**"
   ]
  },
  {
   "cell_type": "markdown",
   "id": "c7892bf2",
   "metadata": {
    "id": "c7892bf2"
   },
   "source": [
    "For this demo, we are going to use the predictions of a image classification model for animals. The dataset we will be using is from Animals With Attributes 2 (AWA2), a benchmarking image dataset that records features and labels for numerous animals in the wild. The model you have trained is a ResNet designed to predict on the images in this diverse dataset.\n",
    "\n",
    "The model classifies an image  into a number of different categories such as - \n",
    "\n",
    "1. Sheep\n",
    "2. Killer Whale\n",
    "3. Monkey\n",
    "\n",
    "We now want to kick off RIME Stress Tests that will help us evaluated the model in further depth beyond basic performance metrics like accuracy, precision, recall. In order to do this, we will upload this pre-trained model, the reference dataset the model was trained on, and the evaluation dataset the model was evaluated on to an S3 bucket that can be accessed by RIME."
   ]
  },
  {
   "cell_type": "code",
   "execution_count": null,
   "id": "c57f4050",
   "metadata": {},
   "outputs": [],
   "source": [
    "%%writefile awa2/models/model.py\n",
    "from typing import Dict, List\n",
    "from pathlib import Path\n",
    "\n",
    "import numpy as np\n",
    "import torch\n",
    "import torch.nn as nn\n",
    "from torchvision.io import read_image, ImageReadMode\n",
    "import torchvision.models as models\n",
    "import torchvision.transforms as transforms\n",
    "\n",
    "\n",
    "IMG_SIZE=224\n",
    "NUM_CLASSES=40\n",
    "NUM_FEATURES=512\n",
    "MODEL_FOLDER_PATH = Path(__file__).parent.absolute()\n",
    "\n",
    "\n",
    "class Net(nn.Module):\n",
    "    def __init__(self, backbone, features_size, num_classes):\n",
    "        super(Net, self).__init__()\n",
    "        # Resnet Backbone (includes avg pooling layer, takes off last FC layer)\n",
    "        self.features = nn.Sequential(*list(backbone.children())[:-1])\n",
    "        self.out = nn.Linear(features_size, num_classes)\n",
    "        \n",
    "    def forward(self, inputs):\n",
    "        \"\"\"Returns network outputs and the features \"\"\"\n",
    "        # put images through ResNet backbone\n",
    "        img_features = self.features(inputs)\n",
    "        img_features = torch.flatten(img_features, start_dim=1)\n",
    "        outputs = self.out(img_features)\n",
    "        return outputs\n",
    "\n",
    "\n",
    "backbone = models.resnet18(pretrained=False)\n",
    "model = Net(backbone, NUM_FEATURES, NUM_CLASSES)\n",
    "model.load_state_dict(\n",
    "    torch.load(\n",
    "        MODEL_FOLDER_PATH / \"model.pt\", \n",
    "        map_location=torch.device('cpu')\n",
    "    )\n",
    ")\n",
    "model.eval()\n",
    "train_mean = [0.485, 0.456, 0.406]\n",
    "train_std = [0.229, 0.224, 0.225]\n",
    "img_normalize = transforms.Normalize(mean=train_mean, std=train_std)\n",
    "transform = transforms.Compose([\n",
    "    transforms.Resize((IMG_SIZE, IMG_SIZE)),\n",
    "    transforms.ConvertImageDtype(torch.float),\n",
    "    img_normalize,\n",
    "])\n",
    "\n",
    "\n",
    "def predict_dict(x: dict) -> np.ndarray:\n",
    "    \"\"\"Predicts on datapoint.\"\"\"\n",
    "    with torch.no_grad():\n",
    "        image = transforms.ToTensor()(x[\"image_path\"])\n",
    "        image = transform(image)\n",
    "        image = torch.unsqueeze(image, 0)\n",
    "        output = model.forward(image)\n",
    "        probs = torch.squeeze(torch.softmax(output, dim=1))\n",
    "    return np.array(probs)"
   ]
  },
  {
   "cell_type": "code",
   "execution_count": null,
   "id": "2852fa32",
   "metadata": {
    "id": "2852fa32"
   },
   "outputs": [],
   "source": [
    "upload_path = \"ri_public_examples_awa2\"\n",
    "rime_models_directory = rime_client.upload_directory(\"awa2/models\", upload_path=upload_path)\n",
    "rime_model_path = rime_models_directory + \"/model.py\""
   ]
  },
  {
   "cell_type": "code",
   "execution_count": null,
   "id": "81104593",
   "metadata": {
    "scrolled": true
   },
   "outputs": [],
   "source": [
    "from datetime import datetime\n",
    "\n",
    "dt = str(datetime.now())\n",
    "\n",
    "# All registered resources need to have unique names, so we append the current\n",
    "# timestamp in case this notebook is rerun.\n",
    "model_id = project.register_model_from_path(f\"model_{dt}\", rime_model_path)"
   ]
  },
  {
   "cell_type": "code",
   "execution_count": null,
   "id": "ed4a4e64",
   "metadata": {
    "id": "ed4a4e64"
   },
   "outputs": [],
   "source": [
    "train_inputs_file = \"awa2/data/train_inputs_trial.json\"\n",
    "test_inputs_file = \"awa2/data/test_inputs_trial.json\"\n",
    "_, train_inputs_path = rime_client.upload_local_image_dataset_file(\n",
    "    train_inputs_file, [\"image_path\"], upload_path=upload_path\n",
    ")\n",
    "_, test_inputs_path = rime_client.upload_local_image_dataset_file(\n",
    "    test_inputs_file, [\"image_path\"], upload_path=upload_path\n",
    ")"
   ]
  },
  {
   "cell_type": "code",
   "execution_count": null,
   "id": "a3d12569",
   "metadata": {},
   "outputs": [],
   "source": [
    "class_names = [\n",
    "    \"antelope\", \n",
    "    \"grizzly+bear\", \n",
    "    \"killer+whale\", \n",
    "    \"beaver\", \n",
    "    \"dalmatian\", \n",
    "    \"horse\", \n",
    "    \"german+shepherd\", \n",
    "    \"blue+whale\", \n",
    "    \"siamese+cat\", \n",
    "    \"skunk\", \n",
    "    \"mole\", \n",
    "    \"tiger\", \n",
    "    \"moose\", \n",
    "    \"spider+monkey\", \n",
    "    \"elephant\", \n",
    "    \"gorilla\", \n",
    "    \"ox\", \n",
    "    \"fox\", \n",
    "    \"sheep\", \n",
    "    \"hamster\", \n",
    "    \"squirrel\", \n",
    "    \"rhinoceros\", \n",
    "    \"rabbit\", \n",
    "    \"bat\", \n",
    "    \"giraffe\", \n",
    "    \"wolf\", \n",
    "    \"chihuahua\", \n",
    "    \"weasel\", \n",
    "    \"otter\", \n",
    "    \"buffalo\", \n",
    "    \"zebra\", \n",
    "    \"deer\", \n",
    "    \"bobcat\", \n",
    "    \"lion\", \n",
    "    \"mouse\", \n",
    "    \"polar+bear\", \n",
    "    \"collie\", \n",
    "    \"walrus\", \n",
    "    \"cow\", \n",
    "    \"dolphin\",\n",
    "]\n",
    "data_info = {\n",
    "    \"image_features\": [\"image_path\"], \n",
    "    \"label_col\": \"label\", \n",
    "    \"class_names\": class_names,\n",
    "}"
   ]
  },
  {
   "cell_type": "code",
   "execution_count": null,
   "id": "584a9995",
   "metadata": {},
   "outputs": [],
   "source": [
    "ref_id = project.register_dataset_from_file(\n",
    "    f\"ref_set_{dt}\", \n",
    "    train_inputs_path, \n",
    "    data_info\n",
    ")\n",
    "eval_id = project.register_dataset_from_file(\n",
    "    f\"eval_set_{dt}\", \n",
    "    test_inputs_path, \n",
    "    data_info,\n",
    ")"
   ]
  },
  {
   "cell_type": "code",
   "execution_count": null,
   "id": "46021f88",
   "metadata": {},
   "outputs": [],
   "source": [
    "ref_preds_path = rime_client.upload_file(\"awa2/data/train_preds_trial.json\")\n",
    "eval_preds_path = rime_client.upload_file(\"awa2/data/test_preds_trial.json\")\n",
    "project.register_predictions_from_file(\n",
    "    ref_id, model_id, ref_preds_path\n",
    "    )\n",
    "project.register_predictions_from_file(\n",
    "    eval_id, model_id, eval_preds_path\n",
    ")"
   ]
  },
  {
   "cell_type": "markdown",
   "id": "b2092e00",
   "metadata": {
    "id": "b2092e00"
   },
   "source": [
    "## **Running a Stress Test**"
   ]
  },
  {
   "cell_type": "markdown",
   "id": "0961a84d",
   "metadata": {
    "id": "0961a84d"
   },
   "source": [
    "AI Stress Tests allow you to test your data and model before deployment. \n",
    "They are a comprehensive suite of hundreds of tests that automatically identify implicit assumptions and weaknesses of pre-production models. Each stress test is run on a single model and its associated reference and evaluation datasets."
   ]
  },
  {
   "cell_type": "markdown",
   "id": "4f5a059f",
   "metadata": {
    "id": "4f5a059f"
   },
   "source": [
    "Below is a sample configuration of how to setup and run a RIME Stress Test for Images."
   ]
  },
  {
   "cell_type": "code",
   "execution_count": null,
   "id": "d9a44de2",
   "metadata": {
    "id": "d9a44de2"
   },
   "outputs": [],
   "source": [
    "stress_test_config = {\n",
    "    \"run_name\": \"Image Classification AWA2\",\n",
    "    \"data_info\": {\n",
    "        \"ref_dataset_id\": ref_id,\n",
    "        \"eval_dataset_id\": eval_id,\n",
    "    },\n",
    "    \"model_id\": model_id,\n",
    "    \"test_suite_config\": {\n",
    "        \"categories\": [\n",
    "            # Adversarial tests take longer so we skip them here to save some time.\n",
    "            {\"name\": \"Adversarial\", \"run_st\": False, \"run_ct\": False},\n",
    "            {\"name\": \"Transformations\", \"run_st\": True, \"run_ct\": False},\n",
    "            {\"name\": \"Subset Performance\", \"run_st\": True, \"run_ct\": False},\n",
    "            {\"name\": \"Model Performance\", \"run_st\": True, \"run_ct\": True},\n",
    "        ]\n",
    "    }\n",
    "}\n",
    "\n",
    "stress_job = rime_client.start_stress_test(stress_test_config, project.project_id)\n",
    "stress_job.get_status(verbose=True, wait_until_finish=True)"
   ]
  },
  {
   "cell_type": "markdown",
   "id": "ea8f1d8d",
   "metadata": {
    "id": "ea8f1d8d"
   },
   "source": [
    "## **Stress Test Results**"
   ]
  },
  {
   "cell_type": "markdown",
   "id": "cc28ba9e",
   "metadata": {
    "id": "cc28ba9e"
   },
   "source": [
    "Stress tests are grouped into categories that measure various aspects of model robustness (subset performance, distribution drift, abnormal input, transformations). Suggestions to improve your model are aggregated on the category level as well. Tests are ranked by default by a shared severity metric. Clicking on an individual test surfaces more detailed information.\n",
    "\n",
    "You can view the detailed results in the UI by running the below cell and redirecting to the generated link. This page shows granular results for a given AI Stress Test run."
   ]
  },
  {
   "cell_type": "code",
   "execution_count": null,
   "id": "3fb39c39",
   "metadata": {
    "id": "3fb39c39"
   },
   "outputs": [],
   "source": [
    "test_run = stress_job.get_test_run()\n",
    "test_run"
   ]
  },
  {
   "cell_type": "markdown",
   "id": "b18fcdc6",
   "metadata": {
    "id": "b18fcdc6"
   },
   "source": [
    "### Analyzing the Results"
   ]
  },
  {
   "cell_type": "markdown",
   "id": "cdd5847d",
   "metadata": {
    "id": "cdd5847d"
   },
   "source": [
    "Below you can see a snapshot of the results. Some of these tests such as the Subset Performance Tests analyze how your model performs on different groups properties related to your data, while others such as Transformations Tests analyze how your model reacts to augmented and perturbed images."
   ]
  },
  {
   "cell_type": "markdown",
   "id": "f37a686d",
   "metadata": {},
   "source": [
    "![stress.png](https://drive.google.com/uc?id=1X4SnvD6l2uqQak_2dNekf-iODyU0-VKp)"
   ]
  },
  {
   "cell_type": "markdown",
   "id": "ee009241",
   "metadata": {
    "id": "ee009241"
   },
   "source": [
    "#### Subset Performance Tests"
   ]
  },
  {
   "cell_type": "markdown",
   "id": "1f6dd569",
   "metadata": {
    "id": "1f6dd569"
   },
   "source": [
    "Here are the results of the Subset Performance tests. These tests can be thought as more detailed performance tests that identify subsets of underperformance in your images metadata. These tests help ensure that the model works equally well across different styles of images."
   ]
  },
  {
   "cell_type": "markdown",
   "id": "6c46fd87",
   "metadata": {},
   "source": [
    "![subset.png](https://drive.google.com/uc?id=1bJ7qk6u3RwmKjgMeVE46cVe_pzvRKK6Z)"
   ]
  },
  {
   "cell_type": "markdown",
   "id": "ac44c948",
   "metadata": {
    "id": "ac44c948"
   },
   "source": [
    "Below we are exploring the \"Subset F1 score\" test cases for the image metadata feature `ImageBrightness`. We can see that even though the model has an overall F1 score of 0.52, it performs poorly on images at the tails of the brightness distribution - images that are either very dim or very bright."
   ]
  },
  {
   "cell_type": "markdown",
   "id": "a458abb9",
   "metadata": {},
   "source": [
    "![f1.png](https://drive.google.com/uc?id=1OZgWQxiabucizgmhAJpGCPy6zgnuvjro)"
   ]
  },
  {
   "cell_type": "markdown",
   "id": "cbe2f10e",
   "metadata": {
    "id": "cbe2f10e"
   },
   "source": [
    "#### Transformation Tests"
   ]
  },
  {
   "cell_type": "markdown",
   "id": "5c4c5f5c",
   "metadata": {
    "id": "5c4c5f5c"
   },
   "source": [
    "The results of the transformation tests are below. These tests can be thought as ways to test your models response to augmented image data, which can often occur in reality. They help to make sure that your model is invariant to such changes in your data."
   ]
  },
  {
   "cell_type": "markdown",
   "id": "b38e0e18",
   "metadata": {},
   "source": [
    "![transform.png](https://drive.google.com/uc?id=1hWryV02Bvnx0i1B4oIkZbDrfNimTZvp9)"
   ]
  },
  {
   "cell_type": "markdown",
   "id": "247e0e5e",
   "metadata": {
    "id": "247e0e5e"
   },
   "source": [
    "### Programatically Querying the Results"
   ]
  },
  {
   "cell_type": "markdown",
   "id": "9b98c0c5",
   "metadata": {
    "id": "9b98c0c5"
   },
   "source": [
    "RIME not only provides you with an intuitive UI to visualize and explore these results, but also allows you to programmatically query these results. This allows customers to integrate with their MLOps pipeline, log results to experiment management tools like MLFlow, bring automated decision making to their ML practicies, or store these results for future references.\n",
    "\n",
    "Run the below cell to programmatically query the results. The results are outputed as a pandas dataframe."
   ]
  },
  {
   "cell_type": "markdown",
   "id": "e0cb933b",
   "metadata": {
    "id": "e0cb933b"
   },
   "source": [
    "**Access results at the a test run overview level**"
   ]
  },
  {
   "cell_type": "code",
   "execution_count": null,
   "id": "61614d6f",
   "metadata": {
    "id": "61614d6f"
   },
   "outputs": [],
   "source": [
    "test_run_result = test_run.get_result_df()\n",
    "test_run_result.to_csv(\"AWA2_Test_Run_Results.csv\")\n",
    "test_run_result"
   ]
  },
  {
   "cell_type": "markdown",
   "id": "1193cdf0",
   "metadata": {
    "id": "1193cdf0"
   },
   "source": [
    "**Access detailed test results at each individual test cases level**"
   ]
  },
  {
   "cell_type": "code",
   "execution_count": null,
   "id": "92db7b45",
   "metadata": {
    "id": "92db7b45"
   },
   "outputs": [],
   "source": [
    "test_case_result = test_run.get_test_cases_df()\n",
    "test_case_result.to_csv(\"AWA2_Test_Case_Results.csv\")\n",
    "test_case_result"
   ]
  },
  {
   "cell_type": "markdown",
   "id": "718e34b3",
   "metadata": {
    "id": "718e34b3"
   },
   "source": [
    "## **Deploy to Production and Create the AI Firewall**\n"
   ]
  },
  {
   "cell_type": "markdown",
   "id": "1c1740c7",
   "metadata": {
    "id": "1c1740c7"
   },
   "source": [
    "Once you have identified the best stress test run, you can deploy the associated model and set up a RIME Firewall to run Continuous Testing in order to automatically detect “bad” incoming data and statistically significant distributional drift. "
   ]
  },
  {
   "cell_type": "code",
   "execution_count": null,
   "id": "3372f8f4",
   "metadata": {},
   "outputs": [],
   "source": [
    "from datetime import timedelta\n",
    "\n",
    "firewall = project.create_firewall(model_id, ref_id, timedelta(days=1))\n",
    "firewall"
   ]
  },
  {
   "cell_type": "markdown",
   "id": "8b051fee",
   "metadata": {
    "id": "8b051fee"
   },
   "source": [
    "## **Uploading a Batch of Production Data with Model Predictions to Firewall**\n"
   ]
  },
  {
   "cell_type": "markdown",
   "id": "e5e75c2f",
   "metadata": {
    "id": "e5e75c2f"
   },
   "source": [
    "The image classification model has been in production for the past week. Production data and model predictions have been collected and stored for the past two weeks. Now, we will use Firewall to track how the model performed across the last two week."
   ]
  },
  {
   "cell_type": "markdown",
   "id": "6ec21cde",
   "metadata": {
    "id": "6ec21cde"
   },
   "source": [
    "**Upload an Incremental Batch of Data**"
   ]
  },
  {
   "cell_type": "code",
   "execution_count": null,
   "id": "a6328c42",
   "metadata": {
    "id": "a6328c42"
   },
   "outputs": [],
   "source": [
    "monitoring_inputs_file = \"awa2/data/test_inputs_monitoring_trial.json\"\n",
    "_, monitoring_inputs_path = rime_client.upload_local_image_dataset_file(\n",
    "    monitoring_inputs_file, [\"image_path\"], upload_path=upload_path)\n",
    "monitoring_id = project.register_dataset_from_file(f\"monitoring_set_{dt}\", monitoring_inputs_path, {\"image_features\": [\"image_path\"], \"label_col\": \"label\", \"class_names\": class_names, \"timestamp_col\": \"timestamp\"})\n",
    "\n",
    "monitoring_preds_path = rime_client.upload_file(\"awa2/data/monitoring_preds_trial.json\")\n",
    "project.register_predictions_from_file(\n",
    "    monitoring_id, model_id, monitoring_preds_path\n",
    ")"
   ]
  },
  {
   "cell_type": "markdown",
   "id": "12b95ad6",
   "metadata": {
    "id": "12b95ad6"
   },
   "source": [
    "**Run Continuous Testing over Batch of Data**"
   ]
  },
  {
   "cell_type": "code",
   "execution_count": null,
   "id": "a4fda2ea",
   "metadata": {
    "id": "a4fda2ea"
   },
   "outputs": [],
   "source": [
    "ct_job = firewall.start_continuous_test(monitoring_id, override_existing_bins=True)\n",
    "ct_job.get_status(verbose=True, wait_until_finish=True)"
   ]
  },
  {
   "cell_type": "markdown",
   "id": "9d093020",
   "metadata": {
    "id": "9d093020"
   },
   "source": [
    "**Wait for a couple minutes and your results will appear in the UI**"
   ]
  },
  {
   "cell_type": "markdown",
   "id": "634b36f0",
   "metadata": {
    "id": "634b36f0"
   },
   "source": [
    "## **Firewall CT Results**"
   ]
  },
  {
   "cell_type": "markdown",
   "id": "d9d89bf0",
   "metadata": {
    "id": "d9d89bf0"
   },
   "source": [
    "The AI Firewall’s Continuous Tests operate at the batch level and provide a mechanism to monitor the health of ML deployments in production. They allow the user to understand when errors begin to occur and surface the underlying drivers of such errors.\n",
    "\n",
    "You can explore the results in the UI by running the below cell and redirecting to the generated link"
   ]
  },
  {
   "cell_type": "code",
   "execution_count": null,
   "id": "a0cb8e06",
   "metadata": {
    "id": "a0cb8e06"
   },
   "outputs": [],
   "source": [
    "firewall"
   ]
  },
  {
   "cell_type": "markdown",
   "id": "32592e22",
   "metadata": {
    "id": "32592e22"
   },
   "source": [
    "### Analyzing CT Results\n"
   ]
  },
  {
   "cell_type": "markdown",
   "id": "7e9417e0",
   "metadata": {
    "id": "7e9417e0"
   },
   "source": [
    "**Decreasing Model Accuracy over Time** - In the below image we can see that model accuracy has decreased from when the model was first deployed. On 03/01 when the model was first deployed, the accuracy was 0.75. 14 days later, on 03/14 the accuracy decreased to 0.4."
   ]
  },
  {
   "cell_type": "markdown",
   "id": "ce14db0f",
   "metadata": {},
   "source": [
    "![ct.png](https://drive.google.com/uc?id=1dYD_V7DDYlWhcuwgWkC8KzVyjVBknQbD)"
   ]
  },
  {
   "cell_type": "markdown",
   "id": "f4547464",
   "metadata": {
    "id": "f4547464"
   },
   "source": [
    "**Decreasing Model F1 Score over Time** - We can also see model F1 score has decreased from when the model was first deployed. On 03/01 when the model was first deployed, the F1 score was 0.726. 14 days later, on 03/14 the F1 score decreased to 0.4. "
   ]
  },
  {
   "cell_type": "markdown",
   "id": "c4255153",
   "metadata": {},
   "source": [
    "![ct_f1.png](https://drive.google.com/uc?id=1Jq31GHBXAIKpR1dwZlQiPGlvoV5sD9Lo)"
   ]
  }
 ],
 "metadata": {
  "colab": {
   "collapsed_sections": [
    "b18fcdc6",
    "ee009241",
    "cbe2f10e",
    "718e34b3",
    "8512332c",
    "51fc29d0"
   ],
   "name": "RIME_Images_Walkthrough.ipynb",
   "provenance": []
  },
  "gpuClass": "standard",
  "kernelspec": {
   "display_name": "Python 3 (ipykernel)",
   "language": "python",
   "name": "python3"
  },
  "language_info": {
   "codemirror_mode": {
    "name": "ipython",
    "version": 3
   },
   "file_extension": ".py",
   "mimetype": "text/x-python",
   "name": "python",
   "nbconvert_exporter": "python",
   "pygments_lexer": "ipython3",
   "version": "3.8.15"
  }
 },
 "nbformat": 4,
 "nbformat_minor": 5
}
