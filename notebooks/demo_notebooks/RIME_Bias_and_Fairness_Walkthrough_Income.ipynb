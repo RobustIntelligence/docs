{
 "cells": [
  {
   "cell_type": "markdown",
   "metadata": {
    "id": "K05kWwxAT9uN"
   },
   "source": [
    "# **RI Bias and Fairness Income Classification Walkthrough**\n",
    "\n",
    "You are a data scientist at the Census Bureau. The data science team has been tasked with implementing a classification model to predict whether an individual's income is above $50k USD. The primary goal of this project is to test the hypothesis that income inequality is _not_ dependent on protected attributes. One could imagine such models being used downstream for various purposes, such as loan approval or funding allocation. A biased model could yield disadvantageous outcomes for protected groups. For instance, we may find that an individual with a specific race or race/gender combination causes the model to consistently predict a low income, causing a higher rate of loan rejection. \n",
    "    \n",
    "\n",
    "In this Notebook Walkthrough, we will walkthrough our core product of **AI Stress Testing** in a fairness setting. RIME AI Stress Testing allows you to test the developed model and datasets. With this bias and fairness setting, you will be able to verify your AI model for compliance-related issues. \n",
    "\n",
    "\n"
   ]
  },
  {
   "cell_type": "markdown",
   "metadata": {},
   "source": [
    "> Latest Colab version of this notebook available [here](https://colab.research.google.com/github/RobustIntelligence/docs/blob/main/notebooks/demo_notebooks/RIME_Bias_and_Fairness_Walkthrough_Income.ipynb)"
   ]
  },
  {
   "cell_type": "markdown",
   "metadata": {
    "id": "APMTB6F7byjr"
   },
   "source": [
    "## **Install Dependencies, Import Libraries and Download Data**\n",
    "Run the cell below to install libraries to receive data, install our SDK, and load analysis libraries."
   ]
  },
  {
   "cell_type": "code",
   "execution_count": null,
   "metadata": {
    "id": "-Qr8pHVOcNz7"
   },
   "outputs": [],
   "source": [
    "!pip install rime-sdk &> /dev/null\n",
    "\n",
    "import pandas as pd\n",
    "from pathlib import Path\n",
    "from rime_sdk import Client"
   ]
  },
  {
   "cell_type": "code",
   "execution_count": null,
   "metadata": {},
   "outputs": [],
   "source": [
    "!pip install https://github.com/RobustIntelligence/ri-public-examples/archive/master.zip\n",
    "from ri_public_examples.download_files import download_files\n",
    "download_files('tabular-2.0/income', 'income')"
   ]
  },
  {
   "cell_type": "markdown",
   "metadata": {
    "id": "90zo7hdkmKyW"
   },
   "source": [
    "## **Establish the RIME Client**\n",
    "\n",
    "To get started, provide the API credentials and the base domain/address of the RIME service. You can generate and copy an API token from the API Access Tokens Page under Workspace settings. For the domian/address of the RIME service, contact your admin. \n",
    "\n",
    "![img_1](https://drive.google.com/uc?id=1vMDhZii8yq22iuqSM8-Vqt3sZ2F3tPyz)"
   ]
  },
  {
   "cell_type": "code",
   "execution_count": null,
   "metadata": {
    "id": "Ns6m8I-qsCzF",
    "outputId": "9c49965d-4f1f-4cc2-cdbe-2099fee38b6a"
   },
   "outputs": [],
   "source": [
    "API_TOKEN = '' # PASTE API_KEY \n",
    "CLUSTER_URL = ''# PASTE DEDICATED DOMAIN OF RIME SERVICE (eg: rime.stable.rbst.io)\n",
    "client = Client(CLUSTER_URL, API_TOKEN)"
   ]
  },
  {
   "cell_type": "markdown",
   "metadata": {
    "id": "pIjQx9KUvWCF"
   },
   "source": [
    "## **Create a New Project**\n",
    "\n",
    "You can create projects in RIME to organize your test runs. Each project represents a workspace for a given machine learning task. It can contain multiple candidate models, but should only contain one promoted production model.  "
   ]
  },
  {
   "cell_type": "code",
   "execution_count": null,
   "metadata": {
    "id": "YEghhVY8vy6K"
   },
   "outputs": [],
   "source": [
    "description = (\n",
    "    \"Use the Robust Intelligence platform to help ensure that your\"\n",
    "    \" models are compliant and to facilitate easy communication\"\n",
    "    \" between your data science and risk teams. Demonstration\"\n",
    "    \" uses the Adult Census Income dataset\"\n",
    "    \" (https://www.kaggle.com/datasets/uciml/adult-census-income)\"\n",
    "    \" and a model trained to predict whether someones annual\" \n",
    "    \" income exceeds $50,000.\"\n",
    ")\n",
    "project = client.create_project(\n",
    "    name=\"Tabular Bias and Fairness Income Demo\", \n",
    "    description=description, \n",
    "    model_task=\"MODEL_TASK_BINARY_CLASSIFICATION\"\n",
    ")\n"
   ]
  },
  {
   "cell_type": "code",
   "execution_count": null,
   "metadata": {
    "id": "4CQU6vkeDwbz",
    "outputId": "5bd53fb3-85a4-49a5-af4b-1374bf73a27d"
   },
   "outputs": [],
   "source": [
    "project.project_id"
   ]
  },
  {
   "cell_type": "markdown",
   "metadata": {
    "id": "eXZ6e7kiTit6"
   },
   "source": [
    "**Go back to the UI to see the new `Tabular Bias and Fairness Income Demo` project.**"
   ]
  },
  {
   "cell_type": "markdown",
   "metadata": {
    "id": "3lsxeLehwN7Y"
   },
   "source": [
    "## **Training an Income Model and Uploading the Model + Datasets**\n",
    "\n",
    "Let's first take a lot at what the dataset looks like. We can observe that the data consists of a mix of categorical and numeric features."
   ]
  },
  {
   "cell_type": "code",
   "execution_count": null,
   "metadata": {
    "id": "rS6ST9KhZPEp",
    "outputId": "256f000d-1416-4080-cf36-ae78367dd8d8"
   },
   "outputs": [],
   "source": [
    "pd.read_csv('income/data/ref.csv').head()"
   ]
  },
  {
   "cell_type": "markdown",
   "metadata": {
    "id": "6Mbokt95ZPfe"
   },
   "source": [
    "For this demo, we are going to use a pretrained CatBoostClassifier Model. \n",
    "\n",
    "The model predicts whether a particular individual has an income of >50k.\n",
    "\n",
    "We now want to kick off RIME Stress Tests, in a compliance setting, that will help us determine if the model is biased against protected attributes. In order to do this, we will upload this pre-trained model, the reference dataset the model was trained on, and the evaluation dataset the model was evaluated on to an S3 bucket that can be accessed by RIME."
   ]
  },
  {
   "cell_type": "code",
   "execution_count": null,
   "metadata": {},
   "outputs": [],
   "source": [
    "upload_path = \"ri_public_examples_income\"\n",
    "\n",
    "model_s3_dir = client.upload_directory(\n",
    "    Path('income/models'), upload_path=upload_path\n",
    ")\n",
    "model_s3_path = model_s3_dir + \"/model.py\"\n",
    "\n",
    "ref_s3_path = client.upload_file(\n",
    "    Path('income/data/ref.csv'), upload_path=upload_path\n",
    ")\n",
    "eval_s3_path = client.upload_file(\n",
    "    Path('income/data/eval.csv'), upload_path=upload_path\n",
    ")\n",
    "\n",
    "ref_preds_s3_path = client.upload_file(\n",
    "    Path(\"income/data/ref_preds.csv\"), upload_path=upload_path\n",
    ")\n",
    "eval_preds_s3_path = client.upload_file(\n",
    "    Path(\"income/data/eval_preds.csv\"), upload_path=upload_path\n",
    ")"
   ]
  },
  {
   "cell_type": "markdown",
   "metadata": {},
   "source": [
    "Once the data and model are uploaded to S3, we can register them to RIME. In this bias and fairness setting, we require some additional information when registering datasets. Within the `data_params` parameter in the registering function, we include the protected features present in the data such that we can run our bias and fairness tests on those features. Once the datasets and models are registered, we can refer to these resources using their RIME-generated ID's."
   ]
  },
  {
   "cell_type": "code",
   "execution_count": null,
   "metadata": {
    "id": "U1mcyn9JwdWQ",
    "outputId": "8af56c7d-58f5-4a70-c05a-e9b7d27b92e5"
   },
   "outputs": [],
   "source": [
    "from datetime import datetime\n",
    "\n",
    "dt = str(datetime.now())\n",
    "\n",
    "# Note: models and datasets need to have unique names.\n",
    "model_id = project.register_model_from_path(f\"model_{dt}\", model_s3_path)\n",
    "\n",
    "ref_dataset_id = project.register_dataset_from_file(\n",
    "    f\"ref_dataset_{dt}\", ref_s3_path, data_params={\"label_col\": \"income\",\n",
    "                                                  \"protected_features\": [\"sex\", \"race\", \"education\", \"age\", \"native.country\"]}\n",
    ")\n",
    "eval_dataset_id = project.register_dataset_from_file(\n",
    "    f\"eval_dataset_{dt}\", eval_s3_path, data_params={\"label_col\": \"income\",\n",
    "                                                    \"protected_features\": [\"sex\", \"race\", \"education\", \"age\", \"native.country\"]}\n",
    ")\n",
    "\n",
    "project.register_predictions_from_file(\n",
    "    ref_dataset_id, model_id, ref_preds_s3_path\n",
    ")\n",
    "project.register_predictions_from_file(\n",
    "    eval_dataset_id, model_id, eval_preds_s3_path\n",
    ")"
   ]
  },
  {
   "cell_type": "markdown",
   "metadata": {
    "id": "yCasNMsy0Avt"
   },
   "source": [
    "## **Running a Stress Test with Bias and Fairness**\n",
    "\n",
    "AI Stress Tests allow you to test your data and model before deployment. They are a comprehensive suite of hundreds of tests that automatically identify implicit assumptions and weaknesses of pre-production models. Each stress test is run on a single model and its associated reference and evaluation datasets. \n",
    "\n",
    "To run Stress Tests with the Bias & Fairness mode, there are two main changes to make. The first has been done already, namely specifying a set of `protected_features` in the `data_param` parameters of both datasets. The protected features are the specific features that you want Stress Tests to run over in order to test your model for signs of bias. Additionally, you will want to specify the Bias and Fairness Category in stress test config. This category does not run by default so specifying as such is necessary:\n",
    "\n",
    "```python\n",
    "stress_test_config = {\n",
    "        # rest of configuration ...\n",
    "        \"categories\": [\"TEST_CATEGORY_TYPE_BIAS_AND_FAIRNESS\"]\n",
    "}\n",
    "```\n",
    "\n",
    "Note how the \"categories\" field contains \"Bias and Fairness\".\n",
    "\n",
    "\n",
    "Below is a sample configuration of how to setup and run a RIME Stress Test."
   ]
  },
  {
   "cell_type": "code",
   "execution_count": null,
   "metadata": {
    "id": "MA-mVn3pzVA1",
    "outputId": "68d86dec-6f0c-452a-8927-0c9c38071dd8"
   },
   "outputs": [],
   "source": [
    "stress_test_config = {\n",
    "    \"run_name\": \"Bias and Fairness Demo Run\",\n",
    "    \"data_info\": {\n",
    "        \"ref_dataset_id\": ref_dataset_id,\n",
    "        \"eval_dataset_id\": eval_dataset_id,\n",
    "    },\n",
    "    \"model_id\": model_id,\n",
    "    \"categories\": [\"TEST_CATEGORY_TYPE_BIAS_AND_FAIRNESS\", \"TEST_CATEGORY_TYPE_MODEL_PERFORMANCE\", \"TEST_CATEGORY_TYPE_SUBSET_PERFORMANCE\"],\n",
    "}\n",
    "\n",
    "stress_job = client.start_stress_test(test_run_config=stress_test_config, project_id=project.project_id)\n",
    "stress_job.get_status(verbose=True, wait_until_finish=True)\n"
   ]
  },
  {
   "cell_type": "markdown",
   "metadata": {
    "id": "LFB5nVEaTtnB"
   },
   "source": [
    "**Wait for a couple minutes and your results will appear in the UI.**"
   ]
  },
  {
   "cell_type": "markdown",
   "metadata": {
    "id": "ovrKDoifIxIm"
   },
   "source": [
    "## **Compliance Stress Test Results**\n",
    "\n",
    "In the compliance setting, the stress tests are organized around a central \"Compliance\" tab.\n",
    "You can view the detailed results in the UI by running the below cell and redirecting to the generated link. This page shows granular results for a given AI Stress Test run. "
   ]
  },
  {
   "cell_type": "code",
   "execution_count": null,
   "metadata": {
    "id": "h2iYOcGiI16-",
    "outputId": "5dca4289-5279-460c-fa9a-70c71ff336bc"
   },
   "outputs": [],
   "source": [
    "test_run = stress_job.get_test_run()\n",
    "test_run"
   ]
  },
  {
   "cell_type": "markdown",
   "metadata": {
    "id": "1zKDo7TOYYds"
   },
   "source": [
    "### **Analyzing the Results**\n",
    "\n",
    "Below you can see a snapshot of the results. \n"
   ]
  },
  {
   "cell_type": "markdown",
   "metadata": {
    "id": "c4m-fHnfDwb2"
   },
   "source": [
    "![img_2](https://drive.google.com/uc?id=1LAVakrDfy1NDDzJx43LLX2lGB8Yzqnrd)"
   ]
  },
  {
   "cell_type": "markdown",
   "metadata": {
    "id": "8CAVd47ZDwb2"
   },
   "source": [
    "Similar to running RIME Stress Tests in the default setting, we surface an overall distribution of test severities, model metrics, as well as key insights to the right. Here the insights are primarily focused on problematic features and subsets within the set of specified protected features.\n",
    "\n",
    "We can take a look at a few tests, starting with the Demographic Parity test."
   ]
  },
  {
   "cell_type": "markdown",
   "metadata": {
    "id": "S0sZ4Jl2Dwb2"
   },
   "source": [
    "![img_3](https://drive.google.com/uc?id=1WO7p9jBXw53UB1GCUmEgEL0hNYYn8jh_)"
   ]
  },
  {
   "cell_type": "markdown",
   "metadata": {
    "id": "SWxWxg55Dwb2"
   },
   "source": [
    "This test measures the ratio in minimum/maximum positive prediction rate between the subsets of a feature. When we look at the results of the Demographic Parity test over the \"race\" feature, we see that the positive prediction rate is far below the 80% threshold for various races. This means that for individuals in these groups, the model consistently predicts that they will have a low income. One could imagine that for downstream tasks such as loan approval that have a direct effect on the individual, such a model will lead to negative outcomes for protected subgroups.\n",
    "\n",
    "Next we can take a look at the Discrimination By Proxy test."
   ]
  },
  {
   "cell_type": "markdown",
   "metadata": {
    "id": "2LLn77EEDwb3"
   },
   "source": [
    "![img_4](https://drive.google.com/uc?id=1Ej49iHkJmWkEh5M4HjFtE4O8P0PWwQjW)"
   ]
  },
  {
   "cell_type": "markdown",
   "metadata": {
    "id": "ti-KSCZpDwb3"
   },
   "source": [
    "In most if not all cases, the protected features are not directly used by the model. However, there may exist \"proxy\" features used by the model that have a high mutual information with the protected features; if the model depends heavily on these features, then the model will still exhibit biased predictions against protected subgroups. The \"Discrimination By Proxy\" test measures the mutual information between a protected feature and proxy features. Here we see that `sex` as a protected feature has a high mutual information with `relationship`, a proxy feature. \n",
    "\n",
    "Next we can take a look at the Feature Independence Test."
   ]
  },
  {
   "cell_type": "markdown",
   "metadata": {
    "id": "CrlodrXCDwb3"
   },
   "source": [
    "![img_5](https://drive.google.com/uc?id=1K6vOXxjbWSWSk_xHrs_IjRKugdC3D18u)"
   ]
  },
  {
   "cell_type": "markdown",
   "metadata": {
    "id": "C1ElXkf9Dwb3"
   },
   "source": [
    "This test is model-agnostic - it measures if there is a relationship between the protected (categorical) attribute and the label by running a Chi-Squared Test. Here we see that there does exist a statistical relationship between race, sex, and education and the label. This implies that even before the model is trained, we will want to carefully understand if the data and task itself is inherently \"biased\", and decide if we want to adjust how we train the model to correct for these biases.\n",
    "\n",
    "Next, we run the Intersectional Group Fairness Test."
   ]
  },
  {
   "cell_type": "markdown",
   "metadata": {
    "id": "cNmXsaNrDwb3"
   },
   "source": [
    "![img_6](https://drive.google.com/uc?id=1o8R0mbmV0NMNCMRD_DEQ2MCU5Du4B6UH)"
   ]
  },
  {
   "cell_type": "markdown",
   "metadata": {
    "id": "VvPFALHBDwb3"
   },
   "source": [
    "This test runs over every pair of protected categorical attributes and analyzes the difference in positive prediction rate between every subset pair. Here we see that when the test is run over `sex`, `education`, the difference in positive prediction rate between `Male`, `Masters` and `Female`, `HS-grad`, is very high, indicating bias over protected attributes. "
   ]
  },
  {
   "cell_type": "markdown",
   "metadata": {
    "id": "XGivw_Weookf"
   },
   "source": [
    "### **Programmatically Querying the Results**"
   ]
  },
  {
   "cell_type": "markdown",
   "metadata": {
    "id": "HB4A2GouWysL"
   },
   "source": [
    "RIME not only provides you with an intuitive UI to visualize and explore these results, but also allows you to programmatically query these results. This allows customers to integrate with their MLOps pipeline, log results to experiment management tools like MLFlow, bring automated decision making to their ML practicies, or store these results for future references. \n",
    "\n",
    "Run the below cell to programmatically query the results. The results are outputed as a pandas dataframe."
   ]
  },
  {
   "cell_type": "markdown",
   "metadata": {
    "id": "fTWLakM8VQj6"
   },
   "source": [
    "**Access results at the a test run overview level**"
   ]
  },
  {
   "cell_type": "code",
   "execution_count": null,
   "metadata": {
    "id": "dgawCIZWLFST"
   },
   "outputs": [],
   "source": [
    "test_run_result = test_run.get_result_df()\n",
    "test_run_result.to_csv(\"Income_Test_Run_Results.csv\")\n",
    "test_run_result"
   ]
  },
  {
   "cell_type": "markdown",
   "metadata": {
    "id": "tUUcNh7XVUPl"
   },
   "source": [
    "**Access detailed test results at each individual test cases level.**"
   ]
  },
  {
   "cell_type": "code",
   "execution_count": null,
   "metadata": {
    "id": "u2qh2linVIt9"
   },
   "outputs": [],
   "source": [
    "test_case_result = test_run.get_test_cases_df()\n",
    "test_case_result.to_csv(\"Income_Test_Case_Results.csv\")\n",
    "test_case_result.head()"
   ]
  },
  {
   "cell_type": "code",
   "execution_count": null,
   "metadata": {},
   "outputs": [],
   "source": []
  }
 ],
 "metadata": {
  "colab": {
   "collapsed_sections": [],
   "name": "RIME_Compliance_Walkthrough.ipynb",
   "provenance": []
  },
  "kernelspec": {
   "display_name": "Python 3 (ipykernel)",
   "language": "python",
   "name": "python3"
  },
  "language_info": {
   "codemirror_mode": {
    "name": "ipython",
    "version": 3
   },
   "file_extension": ".py",
   "mimetype": "text/x-python",
   "name": "python",
   "nbconvert_exporter": "python",
   "pygments_lexer": "ipython3",
   "version": "3.8.15"
  }
 },
 "nbformat": 4,
 "nbformat_minor": 4
}
