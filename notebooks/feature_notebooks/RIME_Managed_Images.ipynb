{
 "cells": [
  {
   "cell_type": "markdown",
   "id": "bdd9e79d",
   "metadata": {},
   "source": [
    "## PART I: Ensure New Image Creation Works"
   ]
  },
  {
   "cell_type": "code",
   "execution_count": null,
   "id": "83b10af9",
   "metadata": {},
   "outputs": [],
   "source": [
    "from rime_sdk import Client"
   ]
  },
  {
   "cell_type": "markdown",
   "id": "14b37a49",
   "metadata": {},
   "source": [
    "## Setup Experiment\n",
    "\n",
    "Please enter values for the cluster, its API token, and an image you want to create."
   ]
  },
  {
   "cell_type": "code",
   "execution_count": null,
   "id": "d06552b3",
   "metadata": {},
   "outputs": [],
   "source": [
    "API_TOKEN = \"\"                        # CREATE & PASTE API_KEY.\n",
    "CLUSTER_URL = \"\"  # PASTE DEDICATED DOMAIN OF RIME SERVICE (eg: rime.example.rbst.io).\n",
    "IMAGE_NAME = \"my_managed_image\"                       # SELECT A UNIQUE IMAGE NAME\n",
    "REQ_NAME = \"pyjokes\"\n",
    "REQ_VERSION_SPEC=\"==0.6.0\""
   ]
  },
  {
   "cell_type": "code",
   "execution_count": null,
   "id": "82953cb8",
   "metadata": {},
   "outputs": [],
   "source": [
    "rime_client = Client(CLUSTER_URL, API_TOKEN)"
   ]
  },
  {
   "cell_type": "code",
   "execution_count": null,
   "id": "bc897c1f",
   "metadata": {},
   "outputs": [],
   "source": [
    "job = rime_client.create_managed_image(IMAGE_NAME, [Client.pip_requirement(name=REQ_NAME, version_specifier=REQ_VERSION_SPEC)])"
   ]
  },
  {
   "cell_type": "code",
   "execution_count": null,
   "id": "e273ff59",
   "metadata": {},
   "outputs": [],
   "source": [
    "job.get_status(wait_until_finish=True, verbose=True)"
   ]
  },
  {
   "cell_type": "markdown",
   "id": "84351133",
   "metadata": {},
   "source": [
    "If that succeeded, make sure your image is created by running:"
   ]
  },
  {
   "cell_type": "code",
   "execution_count": null,
   "id": "760194f7",
   "metadata": {},
   "outputs": [],
   "source": [
    "print([(i['name'], i['rime_tag']) for i in rime_client.list_managed_images()])"
   ]
  },
  {
   "cell_type": "markdown",
   "id": "62459fd9",
   "metadata": {},
   "source": [
    "If that succeeded, start a new stress test with your image:"
   ]
  },
  {
   "cell_type": "code",
   "execution_count": null,
   "id": "3bb741c6",
   "metadata": {},
   "outputs": [],
   "source": [
    "proj = rime_client.get_project(project_id=\"8560fc7b-542e-44a2-8992-b34686f1ca66\")"
   ]
  },
  {
   "cell_type": "code",
   "execution_count": null,
   "id": "a3c03320",
   "metadata": {},
   "outputs": [],
   "source": [
    "ds_config = {\"connection_info\": {\"data_file\": {\"path\": \"s3://rime-datasets/titanic/titanic_example.csv\",},}, \"data_params\": {\"label_col\": \"Survived\",},}\n",
    "ds_id = proj.register_dataset(\"titanic\", ds_config)"
   ]
  },
  {
   "cell_type": "code",
   "execution_count": null,
   "id": "d1cebc69",
   "metadata": {},
   "outputs": [],
   "source": [
    "model_config = {\"model_path\": {\"path\": \"s3://rime-models/titanic_s3_test/titanic_example_model.py\",},}\n",
    "mod_id = proj.register_model(\"titanic\", model_config)"
   ]
  },
  {
   "cell_type": "code",
   "execution_count": null,
   "id": "b1a42431",
   "metadata": {},
   "outputs": [],
   "source": [
    "config = {\"run_name\": \"Titanic\", \"data_info\": {\"ref_dataset_id\": ds_id, \"eval_dataset_id\": ds_id}, \"model_id\": mod_id, \"run_time_info\": {\"custom_image\": {\"managed_image_name\": IMAGE_NAME}}}"
   ]
  },
  {
   "cell_type": "code",
   "execution_count": null,
   "id": "e0764427",
   "metadata": {},
   "outputs": [],
   "source": [
    "stress_job = rime_client.start_stress_test(test_run_config=config, project_id=proj.project_id)"
   ]
  },
  {
   "cell_type": "code",
   "execution_count": null,
   "id": "b986647f",
   "metadata": {},
   "outputs": [],
   "source": [
    "stress_job.get_status(wait_until_finish=True, verbose=True)"
   ]
  },
  {
   "cell_type": "code",
   "execution_count": null,
   "id": "ddd8cbc4",
   "metadata": {},
   "outputs": [],
   "source": []
  }
 ],
 "metadata": {
  "kernelspec": {
   "display_name": "venv",
   "language": "python",
   "name": "venv"
  },
  "language_info": {
   "codemirror_mode": {
    "name": "ipython",
    "version": 3
   },
   "file_extension": ".py",
   "mimetype": "text/x-python",
   "name": "python",
   "nbconvert_exporter": "python",
   "pygments_lexer": "ipython3",
   "version": "3.9.16"
  }
 },
 "nbformat": 4,
 "nbformat_minor": 5
}
