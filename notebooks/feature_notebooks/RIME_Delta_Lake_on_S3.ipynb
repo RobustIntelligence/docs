{
 "cells": [
  {
   "cell_type": "code",
   "execution_count": null,
   "id": "030fd5d0",
   "metadata": {},
   "outputs": [],
   "source": [
    "from uuid import uuid4\n",
    "from datetime import datetime, timedelta\n",
    "import json\n",
    "\n",
    "from rime_sdk import Client"
   ]
  },
  {
   "cell_type": "markdown",
   "id": "551eb74f",
   "metadata": {},
   "source": [
    "# Setup Experiment\n",
    "\n",
    "Please enter values for the cluster and its API token."
   ]
  },
  {
   "cell_type": "code",
   "execution_count": null,
   "id": "3f5bd3db",
   "metadata": {},
   "outputs": [],
   "source": [
    "API_TOKEN = '' # PASTE API_KEY \n",
    "CLUSTER_URL = '' # PASTE DEDICATED DOMAIN OF RIME SERVICE (eg: rime.stable.rbst.io)\n",
    "AGENT_ID = '' # PASTE AGENT_ID IF USING AN AGENT THAT IS NOT THE DEFAULT\n"
   ]
  },
  {
   "cell_type": "code",
   "execution_count": null,
   "id": "44dc48c2",
   "metadata": {},
   "outputs": [],
   "source": [
    "client = Client(CLUSTER_URL, API_TOKEN)"
   ]
  },
  {
   "cell_type": "markdown",
   "id": "9e14f526",
   "metadata": {},
   "source": [
    "Create a project."
   ]
  },
  {
   "cell_type": "code",
   "execution_count": null,
   "id": "42ab8a42",
   "metadata": {},
   "outputs": [],
   "source": [
    "project = client.create_project(\"Delta Lake on S3\", \"Delta lake on S3 test\", \"MODEL_TASK_BINARY_CLASSIFICATION\")\n",
    "model_id = project.register_model(\"My model \" + str(uuid4()))"
   ]
  },
  {
   "cell_type": "markdown",
   "id": "65bde979",
   "metadata": {},
   "source": [
    "Register datasets from delta table on S3 and set up the test. This test uses the internal agent on autotest, whose IAM role has permission to access the S3 bucket."
   ]
  },
  {
   "cell_type": "code",
   "execution_count": null,
   "id": "0a03e7f2",
   "metadata": {},
   "outputs": [],
   "source": [
    "ref_delta_table_name = \"s3a://rime-datasets/delta_lake/test_data/data/binary_classification/ref\"\n",
    "ref_preds_delta_table_name = \"s3a://rime-datasets/delta_lake/test_data/models/binary_classification/preds/ref\"\n",
    "data_info = {\n",
    "    \"connection_info\": {\n",
    "        \"data_file\": {\n",
    "            \"path\": ref_delta_table_name,\n",
    "            \"data_type\": \"DATA_TYPE_DELTA_TABLE\",\n",
    "        }\n",
    "    },\n",
    "    \"data_params\": {\"label_col\": \"is_fraud\", \"timestamp_col\": \"timestamp\"},\n",
    "}\n",
    "ref_data_id = project.register_dataset(\n",
    "    name=f\"{str(datetime.now())} reference dataset\",\n",
    "    data_config=data_info\n",
    ")\n",
    "prediction_info = {\n",
    "    \"connection_info\": {\n",
    "        \"data_file\": {\n",
    "            \"path\": ref_preds_delta_table_name,\n",
    "            \"data_type\": \"DATA_TYPE_DELTA_TABLE\",\n",
    "        }\n",
    "    },\n",
    "    \"pred_params\": {\"pred_col\": \"0\"},\n",
    "}\n",
    "project.register_predictions(\n",
    "    ref_data_id, model_id, prediction_info\n",
    ")\n",
    "\n",
    "eval_data_delta_table_name = \"s3a://rime-datasets/delta_lake/test_data/data/binary_classification/eval\"\n",
    "eval_preds_delta_table_name = \"s3a://rime-datasets/delta_lake/test_data/models/binary_classification/preds/eval\"\n",
    "data_info = {\n",
    "    \"connection_info\": {\n",
    "        \"data_file\": {\n",
    "            \"path\": eval_data_delta_table_name,\n",
    "            \"data_type\": \"DATA_TYPE_DELTA_TABLE\",\n",
    "        }\n",
    "    },\n",
    "    \"data_params\": {\"label_col\": \"is_fraud\", \"timestamp_col\": \"timestamp\"},\n",
    "}\n",
    "eval_data_id = project.register_dataset(\n",
    "    name=f\"{str(datetime.now())} evaluation dataset\",\n",
    "    data_config=data_info\n",
    ")\n",
    "prediction_info = {\n",
    "    \"connection_info\": {\n",
    "        \"data_file\": {\n",
    "            \"path\": eval_preds_delta_table_name,\n",
    "            \"data_type\": \"DATA_TYPE_DELTA_TABLE\",\n",
    "        }\n",
    "    },\n",
    "    \"pred_params\": {\"pred_col\": \"0\"},\n",
    "}\n",
    "project.register_predictions(\n",
    "    eval_data_id, model_id, prediction_info\n",
    ")\n",
    "\n",
    "print(f\"Project id: {project.project_id}\")\n",
    "print(f\"Reference Data id: {ref_data_id}\")\n",
    "print(f\"Evaluation Data id: {eval_data_id}\")\n",
    "print(f\"Model id: {model_id}\")"
   ]
  },
  {
   "cell_type": "markdown",
   "id": "161218bf",
   "metadata": {},
   "source": [
    "Define the config and start the stress test."
   ]
  },
  {
   "cell_type": "code",
   "execution_count": null,
   "id": "84b1c7f1",
   "metadata": {},
   "outputs": [],
   "source": [
    "st_config = {\n",
    "  \"data_info\": {\n",
    "    \"ref_dataset_id\": ref_data_id,\n",
    "    \"eval_dataset_id\": eval_data_id\n",
    "  },\n",
    "  \"run_name\": \"Test Example\",\n",
    "  \"model_id\": model_id,\n",
    "    \"categories\": [\n",
    "    \"TEST_CATEGORY_TYPE_MODEL_PERFORMANCE\",\n",
    "    \"TEST_CATEGORY_TYPE_SUBSET_PERFORMANCE\"\n",
    "  ],\n",
    "  \"run_time_info\": {\n",
    "    \"explicit_errors\": True\n",
    "  }\n",
    "}"
   ]
  },
  {
   "cell_type": "code",
   "execution_count": null,
   "id": "007f1bcf",
   "metadata": {},
   "outputs": [],
   "source": [
    "stress_job = client.start_stress_test(test_run_config=st_config, project_id=project.project_id, agent_id=AGENT_ID)\n",
    "status_dict = stress_job.get_status(verbose=True, wait_until_finish=True)\n",
    "if status_dict['status'] == 'JOB_STATUS_FAILED':\n",
    "  raise Exception('job failed')"
   ]
  },
  {
   "cell_type": "code",
   "execution_count": null,
   "id": "68edf076",
   "metadata": {},
   "outputs": [],
   "source": [
    "client.delete_project(project.project_id, force=True)"
   ]
  }
 ],
 "metadata": {
  "kernelspec": {
   "display_name": "Python 3 (ipykernel)",
   "language": "python",
   "name": "python3"
  },
  "language_info": {
   "codemirror_mode": {
    "name": "ipython",
    "version": 3
   },
   "file_extension": ".py",
   "mimetype": "text/x-python",
   "name": "python",
   "nbconvert_exporter": "python",
   "pygments_lexer": "ipython3",
   "version": "3.10.3"
  }
 },
 "nbformat": 4,
 "nbformat_minor": 5
}
